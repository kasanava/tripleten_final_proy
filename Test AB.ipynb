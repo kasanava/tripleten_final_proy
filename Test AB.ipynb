{
 "cells": [
  {
   "cell_type": "markdown",
   "id": "a427e8e0",
   "metadata": {},
   "source": [
    "# Descripción del proyecto\n",
    "Has recibido una tarea analítica de una tienda en línea internacional. Tus predecesores no consiguieron completarla: lanzaron una prueba A/B y luego abandonaron (para iniciar una granja de sandías en Brasil). Solo dejaron las especificaciones técnicas y los resultados de las pruebas.\n",
    "\n",
    "## Descripción técnica\n",
    "- Nombre de la prueba: recommender_system_test\n",
    "- Grupos: А (control), B (nuevo embudo de pago)\n",
    "- Fecha de lanzamiento: 2020-12-07\n",
    "- Fecha en la que dejaron de aceptar nuevos usuarios: 2020-12-21\n",
    "- Fecha de finalización: 2021-01-01\n",
    "- Audiencia: 15% de los nuevos usuarios de la región de la UE\n",
    "- Propósito de la prueba: probar cambios relacionados con la introducción de un sistema de recomendaciones mejorado\n",
    "- Resultado esperado: dentro de los 14 días posteriores a la inscripción, los usuarios mostrarán una mejor conversión en vistas de la página del producto (el evento product_page), instancias de agregar artículos al carrito de compras (product_cart) y compras (purchase). - En cada etapa del embudo product_page → product_cart → purchase, habrá al menos un 10% de aumento.\n",
    "- Número previsto de participantes de la prueba: 6 000\n",
    "\n",
    "## Descripción de los datos\n",
    "Estructura de los CSV:\n",
    "- **ab_project_marketing_events_us.csv** — el calendario de eventos de marketing para 2020\n",
    "- **final_ab_new_users_upd_us.csv** — todos los usuarios que se registraron en la tienda en línea desde el 7 hasta el 21 de diciembre de 2020\n",
    "- **final_ab_events_upd_us.csv** — todos los eventos de los nuevos usuarios en el período comprendido entre el 7 de diciembre de 2020 y el 1 de enero de 2021\n",
    "- **final_ab_participants_upd_us.csv** — tabla con los datos de los participantes de la prueba\n",
    "\n",
    "Estructura **ab_project__marketing_events_us.csv:**\n",
    "- name — el nombre del evento de marketing\n",
    "- regions — regiones donde se llevará a cabo la campaña publicitaria\n",
    "- start_dt — fecha de inicio de la campaña\n",
    "- finish_dt — fecha de finalización de la campaña\n",
    "\n",
    "Estructura **final_ab_new_users_upd_us.csv:**\n",
    "- user_id\n",
    "- first_date — fecha de inscripción\n",
    "- region\n",
    "- device — dispositivo utilizado para la inscripción\n",
    "\n",
    "Estructura **final_ab_events_upd_us.csv:**\n",
    "- user_id\n",
    "- event_dt — fecha y hora del evento\n",
    "- event_name — nombre del tipo de evento\n",
    "- details — datos adicionales sobre el evento (por ejemplo, el pedido total en USD para los eventos purchase)\n",
    "\n",
    "Estructura **final_ab_participants_upd_us.csv:**\n",
    "- user_id\n",
    "- ab_test — nombre de la prueba\n",
    "- group — el grupo de prueba al que pertenecía el usuario\n"
   ]
  },
  {
   "cell_type": "markdown",
   "id": "574ee735",
   "metadata": {},
   "source": [
    "# Objetivo del estudio\n",
    "Analizar y compruebar si se ha realizado correctamente el estudio de **factibilidad de una granja de sandías en Brasil**; aplicar las pruebas necesarias y analizar los resultados.\n"
   ]
  },
  {
   "cell_type": "markdown",
   "id": "f88ff1f3",
   "metadata": {},
   "source": [
    "# Análisis Explatorio"
   ]
  },
  {
   "cell_type": "markdown",
   "id": "00692f13",
   "metadata": {},
   "source": [
    "## Análisis Inicial"
   ]
  },
  {
   "cell_type": "code",
   "execution_count": 4,
   "id": "e96aad2e",
   "metadata": {},
   "outputs": [],
   "source": [
    "#Importado de bibliotecas\n",
    "import pandas as pd\n",
    "import numpy as np\n",
    "import matplotlib.pyplot as plt\n",
    "import seaborn as sns\n",
    "from statsmodels.stats.proportion import proportions_ztest"
   ]
  },
  {
   "cell_type": "code",
   "execution_count": 5,
   "id": "2a91ef74",
   "metadata": {},
   "outputs": [],
   "source": [
    "#Carga de los archivos CSV\n",
    "mkt_events = pd.read_csv('datasets/ab_project_marketing_events_us.csv')\n",
    "events = pd.read_csv('datasets/final_ab_events_upd_us.csv')\n",
    "new_users = pd.read_csv('datasets/final_ab_new_users_upd_us.csv')\n",
    "participants = pd.read_csv('datasets/final_ab_participants_upd_us.csv')"
   ]
  },
  {
   "cell_type": "code",
   "execution_count": 6,
   "id": "01d69ca8",
   "metadata": {},
   "outputs": [
    {
     "name": "stdout",
     "output_type": "stream",
     "text": [
      "<class 'pandas.core.frame.DataFrame'>\n",
      "RangeIndex: 14 entries, 0 to 13\n",
      "Data columns (total 4 columns):\n",
      " #   Column     Non-Null Count  Dtype \n",
      "---  ------     --------------  ----- \n",
      " 0   name       14 non-null     object\n",
      " 1   regions    14 non-null     object\n",
      " 2   start_dt   14 non-null     object\n",
      " 3   finish_dt  14 non-null     object\n",
      "dtypes: object(4)\n",
      "memory usage: 580.0+ bytes\n"
     ]
    },
    {
     "data": {
      "text/html": [
       "<div>\n",
       "<style scoped>\n",
       "    .dataframe tbody tr th:only-of-type {\n",
       "        vertical-align: middle;\n",
       "    }\n",
       "\n",
       "    .dataframe tbody tr th {\n",
       "        vertical-align: top;\n",
       "    }\n",
       "\n",
       "    .dataframe thead th {\n",
       "        text-align: right;\n",
       "    }\n",
       "</style>\n",
       "<table border=\"1\" class=\"dataframe\">\n",
       "  <thead>\n",
       "    <tr style=\"text-align: right;\">\n",
       "      <th></th>\n",
       "      <th>name</th>\n",
       "      <th>regions</th>\n",
       "      <th>start_dt</th>\n",
       "      <th>finish_dt</th>\n",
       "    </tr>\n",
       "  </thead>\n",
       "  <tbody>\n",
       "    <tr>\n",
       "      <th>6</th>\n",
       "      <td>Chinese New Year Promo</td>\n",
       "      <td>APAC</td>\n",
       "      <td>2020-01-25</td>\n",
       "      <td>2020-02-07</td>\n",
       "    </tr>\n",
       "    <tr>\n",
       "      <th>12</th>\n",
       "      <td>Single's Day Gift Promo</td>\n",
       "      <td>APAC</td>\n",
       "      <td>2020-11-11</td>\n",
       "      <td>2020-11-12</td>\n",
       "    </tr>\n",
       "    <tr>\n",
       "      <th>4</th>\n",
       "      <td>4th of July Promo</td>\n",
       "      <td>N.America</td>\n",
       "      <td>2020-07-04</td>\n",
       "      <td>2020-07-11</td>\n",
       "    </tr>\n",
       "    <tr>\n",
       "      <th>0</th>\n",
       "      <td>Christmas&amp;New Year Promo</td>\n",
       "      <td>EU, N.America</td>\n",
       "      <td>2020-12-25</td>\n",
       "      <td>2021-01-03</td>\n",
       "    </tr>\n",
       "    <tr>\n",
       "      <th>8</th>\n",
       "      <td>International Women's Day Promo</td>\n",
       "      <td>EU, CIS, APAC</td>\n",
       "      <td>2020-03-08</td>\n",
       "      <td>2020-03-10</td>\n",
       "    </tr>\n",
       "  </tbody>\n",
       "</table>\n",
       "</div>"
      ],
      "text/plain": [
       "                               name        regions    start_dt   finish_dt\n",
       "6            Chinese New Year Promo           APAC  2020-01-25  2020-02-07\n",
       "12          Single's Day Gift Promo           APAC  2020-11-11  2020-11-12\n",
       "4                 4th of July Promo      N.America  2020-07-04  2020-07-11\n",
       "0          Christmas&New Year Promo  EU, N.America  2020-12-25  2021-01-03\n",
       "8   International Women's Day Promo  EU, CIS, APAC  2020-03-08  2020-03-10"
      ]
     },
     "execution_count": 6,
     "metadata": {},
     "output_type": "execute_result"
    }
   ],
   "source": [
    "#Exploración de los datos del DF mkt_events\n",
    "mkt_events.info()\n",
    "mkt_events.sample(5)"
   ]
  },
  {
   "cell_type": "code",
   "execution_count": 7,
   "id": "2c80ac30",
   "metadata": {},
   "outputs": [
    {
     "name": "stdout",
     "output_type": "stream",
     "text": [
      "<class 'pandas.core.frame.DataFrame'>\n",
      "RangeIndex: 423761 entries, 0 to 423760\n",
      "Data columns (total 4 columns):\n",
      " #   Column      Non-Null Count   Dtype  \n",
      "---  ------      --------------   -----  \n",
      " 0   user_id     423761 non-null  object \n",
      " 1   event_dt    423761 non-null  object \n",
      " 2   event_name  423761 non-null  object \n",
      " 3   details     60314 non-null   float64\n",
      "dtypes: float64(1), object(3)\n",
      "memory usage: 12.9+ MB\n"
     ]
    },
    {
     "data": {
      "text/html": [
       "<div>\n",
       "<style scoped>\n",
       "    .dataframe tbody tr th:only-of-type {\n",
       "        vertical-align: middle;\n",
       "    }\n",
       "\n",
       "    .dataframe tbody tr th {\n",
       "        vertical-align: top;\n",
       "    }\n",
       "\n",
       "    .dataframe thead th {\n",
       "        text-align: right;\n",
       "    }\n",
       "</style>\n",
       "<table border=\"1\" class=\"dataframe\">\n",
       "  <thead>\n",
       "    <tr style=\"text-align: right;\">\n",
       "      <th></th>\n",
       "      <th>user_id</th>\n",
       "      <th>event_dt</th>\n",
       "      <th>event_name</th>\n",
       "      <th>details</th>\n",
       "    </tr>\n",
       "  </thead>\n",
       "  <tbody>\n",
       "    <tr>\n",
       "      <th>162133</th>\n",
       "      <td>DED1E0C437CB9BD2</td>\n",
       "      <td>2020-12-15 11:17:25</td>\n",
       "      <td>product_page</td>\n",
       "      <td>NaN</td>\n",
       "    </tr>\n",
       "    <tr>\n",
       "      <th>35910</th>\n",
       "      <td>DE92BF81B0D947E8</td>\n",
       "      <td>2020-12-20 03:58:47</td>\n",
       "      <td>purchase</td>\n",
       "      <td>9.99</td>\n",
       "    </tr>\n",
       "    <tr>\n",
       "      <th>81355</th>\n",
       "      <td>C9A484DEDC5278A3</td>\n",
       "      <td>2020-12-15 06:49:00</td>\n",
       "      <td>product_cart</td>\n",
       "      <td>NaN</td>\n",
       "    </tr>\n",
       "    <tr>\n",
       "      <th>279143</th>\n",
       "      <td>1A424A06BCAE2BD4</td>\n",
       "      <td>2020-12-13 01:40:56</td>\n",
       "      <td>login</td>\n",
       "      <td>NaN</td>\n",
       "    </tr>\n",
       "    <tr>\n",
       "      <th>241859</th>\n",
       "      <td>853EECE16E08BA6F</td>\n",
       "      <td>2020-12-07 12:09:26</td>\n",
       "      <td>login</td>\n",
       "      <td>NaN</td>\n",
       "    </tr>\n",
       "  </tbody>\n",
       "</table>\n",
       "</div>"
      ],
      "text/plain": [
       "                 user_id             event_dt    event_name  details\n",
       "162133  DED1E0C437CB9BD2  2020-12-15 11:17:25  product_page      NaN\n",
       "35910   DE92BF81B0D947E8  2020-12-20 03:58:47      purchase     9.99\n",
       "81355   C9A484DEDC5278A3  2020-12-15 06:49:00  product_cart      NaN\n",
       "279143  1A424A06BCAE2BD4  2020-12-13 01:40:56         login      NaN\n",
       "241859  853EECE16E08BA6F  2020-12-07 12:09:26         login      NaN"
      ]
     },
     "execution_count": 7,
     "metadata": {},
     "output_type": "execute_result"
    }
   ],
   "source": [
    "#Exploración de los datos del df events\n",
    "events.info()\n",
    "events.sample(5)"
   ]
  },
  {
   "cell_type": "code",
   "execution_count": 8,
   "id": "c2db6aa8",
   "metadata": {},
   "outputs": [
    {
     "name": "stdout",
     "output_type": "stream",
     "text": [
      "<class 'pandas.core.frame.DataFrame'>\n",
      "RangeIndex: 58703 entries, 0 to 58702\n",
      "Data columns (total 4 columns):\n",
      " #   Column      Non-Null Count  Dtype \n",
      "---  ------      --------------  ----- \n",
      " 0   user_id     58703 non-null  object\n",
      " 1   first_date  58703 non-null  object\n",
      " 2   region      58703 non-null  object\n",
      " 3   device      58703 non-null  object\n",
      "dtypes: object(4)\n",
      "memory usage: 1.8+ MB\n"
     ]
    },
    {
     "data": {
      "text/html": [
       "<div>\n",
       "<style scoped>\n",
       "    .dataframe tbody tr th:only-of-type {\n",
       "        vertical-align: middle;\n",
       "    }\n",
       "\n",
       "    .dataframe tbody tr th {\n",
       "        vertical-align: top;\n",
       "    }\n",
       "\n",
       "    .dataframe thead th {\n",
       "        text-align: right;\n",
       "    }\n",
       "</style>\n",
       "<table border=\"1\" class=\"dataframe\">\n",
       "  <thead>\n",
       "    <tr style=\"text-align: right;\">\n",
       "      <th></th>\n",
       "      <th>user_id</th>\n",
       "      <th>first_date</th>\n",
       "      <th>region</th>\n",
       "      <th>device</th>\n",
       "    </tr>\n",
       "  </thead>\n",
       "  <tbody>\n",
       "    <tr>\n",
       "      <th>51957</th>\n",
       "      <td>77D205D1A7FD47EF</td>\n",
       "      <td>2020-12-13</td>\n",
       "      <td>N.America</td>\n",
       "      <td>PC</td>\n",
       "    </tr>\n",
       "    <tr>\n",
       "      <th>20148</th>\n",
       "      <td>EDA00DACE98495FB</td>\n",
       "      <td>2020-12-15</td>\n",
       "      <td>EU</td>\n",
       "      <td>iPhone</td>\n",
       "    </tr>\n",
       "    <tr>\n",
       "      <th>25433</th>\n",
       "      <td>F915D113F120E610</td>\n",
       "      <td>2020-12-22</td>\n",
       "      <td>N.America</td>\n",
       "      <td>Android</td>\n",
       "    </tr>\n",
       "    <tr>\n",
       "      <th>31611</th>\n",
       "      <td>EA3B3F3317FF261F</td>\n",
       "      <td>2020-12-23</td>\n",
       "      <td>CIS</td>\n",
       "      <td>Mac</td>\n",
       "    </tr>\n",
       "    <tr>\n",
       "      <th>43149</th>\n",
       "      <td>9EC475B8A841FA12</td>\n",
       "      <td>2020-12-18</td>\n",
       "      <td>N.America</td>\n",
       "      <td>iPhone</td>\n",
       "    </tr>\n",
       "  </tbody>\n",
       "</table>\n",
       "</div>"
      ],
      "text/plain": [
       "                user_id  first_date     region   device\n",
       "51957  77D205D1A7FD47EF  2020-12-13  N.America       PC\n",
       "20148  EDA00DACE98495FB  2020-12-15         EU   iPhone\n",
       "25433  F915D113F120E610  2020-12-22  N.America  Android\n",
       "31611  EA3B3F3317FF261F  2020-12-23        CIS      Mac\n",
       "43149  9EC475B8A841FA12  2020-12-18  N.America   iPhone"
      ]
     },
     "execution_count": 8,
     "metadata": {},
     "output_type": "execute_result"
    }
   ],
   "source": [
    "#Exploración de los datos del DF new_users\n",
    "new_users.info()\n",
    "new_users.sample(5)"
   ]
  },
  {
   "cell_type": "code",
   "execution_count": 9,
   "id": "f1ce6a04",
   "metadata": {},
   "outputs": [
    {
     "name": "stdout",
     "output_type": "stream",
     "text": [
      "<class 'pandas.core.frame.DataFrame'>\n",
      "RangeIndex: 14525 entries, 0 to 14524\n",
      "Data columns (total 3 columns):\n",
      " #   Column   Non-Null Count  Dtype \n",
      "---  ------   --------------  ----- \n",
      " 0   user_id  14525 non-null  object\n",
      " 1   group    14525 non-null  object\n",
      " 2   ab_test  14525 non-null  object\n",
      "dtypes: object(3)\n",
      "memory usage: 340.6+ KB\n"
     ]
    },
    {
     "data": {
      "text/html": [
       "<div>\n",
       "<style scoped>\n",
       "    .dataframe tbody tr th:only-of-type {\n",
       "        vertical-align: middle;\n",
       "    }\n",
       "\n",
       "    .dataframe tbody tr th {\n",
       "        vertical-align: top;\n",
       "    }\n",
       "\n",
       "    .dataframe thead th {\n",
       "        text-align: right;\n",
       "    }\n",
       "</style>\n",
       "<table border=\"1\" class=\"dataframe\">\n",
       "  <thead>\n",
       "    <tr style=\"text-align: right;\">\n",
       "      <th></th>\n",
       "      <th>user_id</th>\n",
       "      <th>group</th>\n",
       "      <th>ab_test</th>\n",
       "    </tr>\n",
       "  </thead>\n",
       "  <tbody>\n",
       "    <tr>\n",
       "      <th>9905</th>\n",
       "      <td>F764800760E07DCA</td>\n",
       "      <td>A</td>\n",
       "      <td>interface_eu_test</td>\n",
       "    </tr>\n",
       "    <tr>\n",
       "      <th>9547</th>\n",
       "      <td>E864D14919D863AD</td>\n",
       "      <td>B</td>\n",
       "      <td>interface_eu_test</td>\n",
       "    </tr>\n",
       "    <tr>\n",
       "      <th>3095</th>\n",
       "      <td>AC4F0C6F72419245</td>\n",
       "      <td>A</td>\n",
       "      <td>recommender_system_test</td>\n",
       "    </tr>\n",
       "    <tr>\n",
       "      <th>8878</th>\n",
       "      <td>687686C65F725F2A</td>\n",
       "      <td>A</td>\n",
       "      <td>interface_eu_test</td>\n",
       "    </tr>\n",
       "    <tr>\n",
       "      <th>6055</th>\n",
       "      <td>D6A4D8A1D9A2E083</td>\n",
       "      <td>B</td>\n",
       "      <td>interface_eu_test</td>\n",
       "    </tr>\n",
       "  </tbody>\n",
       "</table>\n",
       "</div>"
      ],
      "text/plain": [
       "               user_id group                  ab_test\n",
       "9905  F764800760E07DCA     A        interface_eu_test\n",
       "9547  E864D14919D863AD     B        interface_eu_test\n",
       "3095  AC4F0C6F72419245     A  recommender_system_test\n",
       "8878  687686C65F725F2A     A        interface_eu_test\n",
       "6055  D6A4D8A1D9A2E083     B        interface_eu_test"
      ]
     },
     "execution_count": 9,
     "metadata": {},
     "output_type": "execute_result"
    }
   ],
   "source": [
    "#Exploración de los datos del DF participants\n",
    "participants.info()\n",
    "participants.sample(5)"
   ]
  },
  {
   "cell_type": "markdown",
   "id": "5a7083f6",
   "metadata": {},
   "source": [
    "## Identificación de datos nulos y repetidos"
   ]
  },
  {
   "cell_type": "code",
   "execution_count": 10,
   "id": "2d02351b",
   "metadata": {},
   "outputs": [
    {
     "name": "stdout",
     "output_type": "stream",
     "text": [
      "MKT Events\n",
      "Celdas repetidas:\n",
      " 0\n",
      "Celdas nulas:\n",
      " name         0\n",
      "regions      0\n",
      "start_dt     0\n",
      "finish_dt    0\n",
      "dtype: int64\n",
      "\n",
      "Events\n",
      "Celdas repetidas:\n",
      " 0\n",
      "Celdas nulas:\n",
      " user_id            0\n",
      "event_dt           0\n",
      "event_name         0\n",
      "details       363447\n",
      "dtype: int64\n",
      "\n",
      "New Users\n",
      "Celdas repetidas:\n",
      " 0\n",
      "Celdas nulas:\n",
      " user_id       0\n",
      "first_date    0\n",
      "region        0\n",
      "device        0\n",
      "dtype: int64\n",
      "\n",
      "Participants\n",
      "Celdas repetidas:\n",
      " 0\n",
      "Celdas nulas:\n",
      " user_id    0\n",
      "group      0\n",
      "ab_test    0\n",
      "dtype: int64\n"
     ]
    }
   ],
   "source": [
    "#Contamos los celdas repetidas y nulas en cada columna de mkt_events\n",
    "print('MKT Events')\n",
    "print('Celdas repetidas:\\n', mkt_events.duplicated().sum())\n",
    "print('Celdas nulas:\\n',mkt_events.isnull().sum())\n",
    "\n",
    "#Contamos los celdas repetidas y nulas en cada columna de events\n",
    "print('\\nEvents')\n",
    "print('Celdas repetidas:\\n', events.duplicated().sum())\n",
    "print('Celdas nulas:\\n',events.isnull().sum())\n",
    "\n",
    "#Contamos los celdas repetidas y nulas en cada columna de new_users\n",
    "print('\\nNew Users')\n",
    "print('Celdas repetidas:\\n', new_users.duplicated().sum())\n",
    "print('Celdas nulas:\\n',new_users.isnull().sum())\n",
    "\n",
    "#Contamos los celdas repetidas y nulas en cada columna de participants\n",
    "print('\\nParticipants')\n",
    "print('Celdas repetidas:\\n', participants.duplicated().sum())\n",
    "print('Celdas nulas:\\n',participants.isnull().sum())"
   ]
  },
  {
   "cell_type": "markdown",
   "id": "5fd18cdf",
   "metadata": {},
   "source": [
    "## Transformación de los datos"
   ]
  },
  {
   "cell_type": "code",
   "execution_count": 11,
   "id": "2f18fbdd",
   "metadata": {},
   "outputs": [
    {
     "name": "stdout",
     "output_type": "stream",
     "text": [
      "Converted columns ['first_date'] to datetime with format '%Y-%m-%d' in DataFrame.\n",
      "Converted columns ['start_dt', 'finish_dt'] to datetime with format '%Y-%m-%d' in DataFrame.\n",
      "Converted columns ['event_dt'] to datetime with format '%Y-%m-%d %H:%M:%S' in DataFrame.\n"
     ]
    },
    {
     "data": {
      "text/html": [
       "<div>\n",
       "<style scoped>\n",
       "    .dataframe tbody tr th:only-of-type {\n",
       "        vertical-align: middle;\n",
       "    }\n",
       "\n",
       "    .dataframe tbody tr th {\n",
       "        vertical-align: top;\n",
       "    }\n",
       "\n",
       "    .dataframe thead th {\n",
       "        text-align: right;\n",
       "    }\n",
       "</style>\n",
       "<table border=\"1\" class=\"dataframe\">\n",
       "  <thead>\n",
       "    <tr style=\"text-align: right;\">\n",
       "      <th></th>\n",
       "      <th>user_id</th>\n",
       "      <th>event_dt</th>\n",
       "      <th>event_name</th>\n",
       "      <th>details</th>\n",
       "    </tr>\n",
       "  </thead>\n",
       "  <tbody>\n",
       "    <tr>\n",
       "      <th>0</th>\n",
       "      <td>E1BDDCE0DAFA2679</td>\n",
       "      <td>2020-12-07 20:22:03</td>\n",
       "      <td>purchase</td>\n",
       "      <td>99.99</td>\n",
       "    </tr>\n",
       "    <tr>\n",
       "      <th>1</th>\n",
       "      <td>7B6452F081F49504</td>\n",
       "      <td>2020-12-07 09:22:53</td>\n",
       "      <td>purchase</td>\n",
       "      <td>9.99</td>\n",
       "    </tr>\n",
       "    <tr>\n",
       "      <th>2</th>\n",
       "      <td>9CD9F34546DF254C</td>\n",
       "      <td>2020-12-07 12:59:29</td>\n",
       "      <td>purchase</td>\n",
       "      <td>4.99</td>\n",
       "    </tr>\n",
       "    <tr>\n",
       "      <th>3</th>\n",
       "      <td>96F27A054B191457</td>\n",
       "      <td>2020-12-07 04:02:40</td>\n",
       "      <td>purchase</td>\n",
       "      <td>4.99</td>\n",
       "    </tr>\n",
       "    <tr>\n",
       "      <th>4</th>\n",
       "      <td>1FD7660FDF94CA1F</td>\n",
       "      <td>2020-12-07 10:15:09</td>\n",
       "      <td>purchase</td>\n",
       "      <td>4.99</td>\n",
       "    </tr>\n",
       "    <tr>\n",
       "      <th>...</th>\n",
       "      <td>...</td>\n",
       "      <td>...</td>\n",
       "      <td>...</td>\n",
       "      <td>...</td>\n",
       "    </tr>\n",
       "    <tr>\n",
       "      <th>423756</th>\n",
       "      <td>245E85F65C358E08</td>\n",
       "      <td>2020-12-30 19:35:55</td>\n",
       "      <td>login</td>\n",
       "      <td>0.00</td>\n",
       "    </tr>\n",
       "    <tr>\n",
       "      <th>423757</th>\n",
       "      <td>9385A108F5A0A7A7</td>\n",
       "      <td>2020-12-30 10:54:15</td>\n",
       "      <td>login</td>\n",
       "      <td>0.00</td>\n",
       "    </tr>\n",
       "    <tr>\n",
       "      <th>423758</th>\n",
       "      <td>DB650B7559AC6EAC</td>\n",
       "      <td>2020-12-30 10:59:09</td>\n",
       "      <td>login</td>\n",
       "      <td>0.00</td>\n",
       "    </tr>\n",
       "    <tr>\n",
       "      <th>423759</th>\n",
       "      <td>F80C9BDDEA02E53C</td>\n",
       "      <td>2020-12-30 09:53:39</td>\n",
       "      <td>login</td>\n",
       "      <td>0.00</td>\n",
       "    </tr>\n",
       "    <tr>\n",
       "      <th>423760</th>\n",
       "      <td>7AEC61159B672CC5</td>\n",
       "      <td>2020-12-30 11:36:13</td>\n",
       "      <td>login</td>\n",
       "      <td>0.00</td>\n",
       "    </tr>\n",
       "  </tbody>\n",
       "</table>\n",
       "<p>423761 rows × 4 columns</p>\n",
       "</div>"
      ],
      "text/plain": [
       "                 user_id            event_dt event_name  details\n",
       "0       E1BDDCE0DAFA2679 2020-12-07 20:22:03   purchase    99.99\n",
       "1       7B6452F081F49504 2020-12-07 09:22:53   purchase     9.99\n",
       "2       9CD9F34546DF254C 2020-12-07 12:59:29   purchase     4.99\n",
       "3       96F27A054B191457 2020-12-07 04:02:40   purchase     4.99\n",
       "4       1FD7660FDF94CA1F 2020-12-07 10:15:09   purchase     4.99\n",
       "...                  ...                 ...        ...      ...\n",
       "423756  245E85F65C358E08 2020-12-30 19:35:55      login     0.00\n",
       "423757  9385A108F5A0A7A7 2020-12-30 10:54:15      login     0.00\n",
       "423758  DB650B7559AC6EAC 2020-12-30 10:59:09      login     0.00\n",
       "423759  F80C9BDDEA02E53C 2020-12-30 09:53:39      login     0.00\n",
       "423760  7AEC61159B672CC5 2020-12-30 11:36:13      login     0.00\n",
       "\n",
       "[423761 rows x 4 columns]"
      ]
     },
     "execution_count": 11,
     "metadata": {},
     "output_type": "execute_result"
    }
   ],
   "source": [
    "#Convertimos a float la columnna 'details' del df events\n",
    "#Antes de la conversión, reemplazamos los valores NaN por 0\n",
    "events['details'] = events['details'].fillna(0)\n",
    "events['details'] = events['details'].astype(float)\n",
    "\n",
    "#Generamos una función para convertir las columnas de object a datetime\n",
    "#Recibe un DataFrame, una lista de columnas y el formato de fecha\n",
    "def convert_to_datetime(df, columns, format):\n",
    "    for column in columns:\n",
    "        df[column] = pd.to_datetime(df[column], format=format)\n",
    "    print(f\"Converted columns {columns} to datetime with format '{format}' in DataFrame.\")\n",
    "    return df\n",
    "\n",
    "\n",
    "#Convertimos a datetime (año/mes/día) la columna 'first_date' del df new_users; 'start_dt' y 'finish_dt' del df mkt_events \n",
    "convert_to_datetime(new_users, ['first_date'], '%Y-%m-%d')\n",
    "convert_to_datetime(mkt_events, ['start_dt', 'finish_dt'], '%Y-%m-%d')\n",
    "\n",
    "#Convertimos a datetime (año/mes/día h:m:s) la columna 'event_dt' del df events\n",
    "convert_to_datetime(events, ['event_dt'], '%Y-%m-%d %H:%M:%S')\n"
   ]
  },
  {
   "cell_type": "markdown",
   "id": "4662f3dd",
   "metadata": {},
   "source": [
    "    - Dentro de los Data Frames no fueron encontrados datos repetidos ni nulos al momento de realizar una busqueda superficial; tampoco se encontraron inconsistencias en los nombres de las series. Por lo que solo se realizarán modificaciones de \"tipo\", para la serie DETAILS del DF EVENTS es de tipo object pero su origen es monetario por lo que se reemplazarán los nulos por ceros y el tipo será FLOAT. Después todas las series de naturaleza de fecha serán modficadas de OBJECT a tipo DATETIME, siendo que la serie FIRST_DATE del DF NEW_USERS y las series START_DT y FINISH_DT del DF MKT_EVENTS tendrán un formato '%Y-%m-%d'; y la ultima modificación de DATETIME es para la serie EVENT_DT del DF EVENTS tentrá un formato ligeramente distinto al agregarle la hora, minuto y segundo '%Y-%m-%d %H:%M:%S'."
   ]
  },
  {
   "cell_type": "markdown",
   "id": "7d8e212f",
   "metadata": {},
   "source": [
    "# Estudio del embudo"
   ]
  },
  {
   "cell_type": "markdown",
   "id": "b71ad2ca",
   "metadata": {},
   "source": [
    "## Etapas del embudo"
   ]
  },
  {
   "cell_type": "code",
   "execution_count": 12,
   "id": "0333f5d9",
   "metadata": {},
   "outputs": [
    {
     "name": "stdout",
     "output_type": "stream",
     "text": [
      "\n",
      "Usuarios en más de un grupo: 1774\n",
      "\n",
      "Usuarios participantes de la prueba que NO están en la lista de usuarios nuevos registrados: 0\n",
      "\n",
      "Usuarios participantes que no tienen eventos registrados: 0\n"
     ]
    }
   ],
   "source": [
    "#Validamos que los grupos A y B no tengan usuarios repetidos\n",
    "duplicated_users = participants.duplicated(subset='user_id', keep=False)\n",
    "print(f'\\nUsuarios en más de un grupo: {duplicated_users.sum()}')\n",
    "\n",
    "#Buscamos los usuarios del DF participants que NO estan en el DF new_users\n",
    "missing_users = participants[~participants['user_id'].isin(new_users['user_id'])]\n",
    "print(f'\\nUsuarios participantes de la prueba que NO están en la lista de usuarios nuevos registrados: {len(missing_users)}')\n",
    "\n",
    "#Contamos los usuarios participantes que no cuenten con ningún evento registrado\n",
    "no_events_users = participants[~participants['user_id'].isin(events['user_id'])]\n",
    "print(f'\\nUsuarios participantes que no tienen eventos registrados: {len(no_events_users)}')"
   ]
  },
  {
   "cell_type": "markdown",
   "id": "9a5b4343",
   "metadata": {},
   "source": [
    "    - Se identificaron 1,774 usuarios asignados a más de un grupo, lo cual es una violación crítica del diseño experimental, ya que puede contaminar los resultados y sesgar las métricas de conversión. Afortunadamente, no se detectaron participantes fuera del rango de usuarios nuevos ni usuarios sin eventos registrados, lo que garantiza consistencia entre las tablas de participantes, nuevos usuarios y eventos. Sin embargo, para futuras pruebas es fundamental aplicar controles estrictos de asignación única por usuario para preservar la validez estadística del experimento."
   ]
  },
  {
   "cell_type": "code",
   "execution_count": 13,
   "id": "8e45705c",
   "metadata": {},
   "outputs": [
    {
     "name": "stdout",
     "output_type": "stream",
     "text": [
      "\n",
      "Usuarios por grupo:\n",
      "group\n",
      "A    8214\n",
      "B    6311\n",
      "Name: count, dtype: int64\n"
     ]
    }
   ],
   "source": [
    "#Antes de analizar las etapas del embudo es necesario encontrar y dividir los usuarios en grupos\n",
    "#Contamos los usuarios por grupo\n",
    "users_by_group = participants['group'].value_counts()\n",
    "print('\\nUsuarios por grupo:')\n",
    "print(users_by_group)"
   ]
  },
  {
   "cell_type": "code",
   "execution_count": 14,
   "id": "e896d313",
   "metadata": {},
   "outputs": [
    {
     "name": "stdout",
     "output_type": "stream",
     "text": [
      "<class 'pandas.core.frame.DataFrame'>\n",
      "Index: 55816 entries, 0 to 58127\n",
      "Data columns (total 7 columns):\n",
      " #   Column      Non-Null Count  Dtype         \n",
      "---  ------      --------------  -----         \n",
      " 0   user_id     55816 non-null  object        \n",
      " 1   event_dt    55816 non-null  datetime64[ns]\n",
      " 2   event_name  55816 non-null  object        \n",
      " 3   details     55816 non-null  float64       \n",
      " 4   group       55816 non-null  object        \n",
      " 5   ab_test     55816 non-null  object        \n",
      " 6   first_date  55816 non-null  datetime64[ns]\n",
      "dtypes: datetime64[ns](2), float64(1), object(4)\n",
      "memory usage: 3.4+ MB\n",
      "None\n",
      "                user_id            event_dt    event_name  details group  \\\n",
      "39398  19E774EAFD97AA92 2020-12-16 21:31:30  product_page     0.00     A   \n",
      "35288  834A2F48EF56608B 2020-12-13 19:33:58  product_page     0.00     B   \n",
      "37632  39393B197D7743EB 2020-12-15 02:30:11  product_page     0.00     A   \n",
      "7757   57E796E81DD60883 2020-12-19 03:05:17      purchase     9.99     B   \n",
      "4939   7B1498FD201F52FB 2020-12-15 13:56:44      purchase     4.99     B   \n",
      "\n",
      "                       ab_test first_date  \n",
      "39398  recommender_system_test 2020-12-14  \n",
      "35288        interface_eu_test 2020-12-12  \n",
      "37632  recommender_system_test 2020-12-14  \n",
      "7757         interface_eu_test 2020-12-16  \n",
      "4939         interface_eu_test 2020-12-12  \n"
     ]
    }
   ],
   "source": [
    "#Unificamos los DataFrames de events y participants, para luego unificarlos con new_users para obtener un DataFrame completo\n",
    "#que contenga todos los usuarios, sus eventos y su grupo de participación\n",
    "events_participants = events.merge(participants, on='user_id').merge(new_users[['user_id', 'first_date']], on='user_id')\n",
    "\n",
    "#Filtramos los eventos que fueron realizados solo durante los primeros 14 días desde el registro del usuario\n",
    "#De esta forma, nos aseguramos de que los eventos sean relevantes para el análisis del embudo\n",
    "events_participants = events_participants[events_participants['event_dt'] <= events_participants['first_date'] + pd.Timedelta(days=14)]\n",
    "#Asi como filtramos los eventos que son de relevacia para el análisis del embudo por lo que omitimos los eventos de tipo 'login'\n",
    "events_participants = events_participants[events_participants['event_name'] != 'login']\n",
    "\n",
    "print(events_participants.info())\n",
    "print(events_participants.sample(5))"
   ]
  },
  {
   "cell_type": "markdown",
   "id": "34100ec5",
   "metadata": {},
   "source": [
    "    - La prueba contó con una asignación desigual de usuarios entre grupos: 8,214 en el grupo A y 6,311 en el grupo B. Aunque este desbalance podría parecer problemático a primera vista, no es necesario emparejar las muestras, ya que la prueba estadística utilizada (Z para proporciones) ajusta automáticamente las diferencias en el tamaño de muestra al calcular la significancia. Forzar un emparejamiento por submuestreo reduciría la potencia estadística del análisis sin aportar beneficios reales."
   ]
  },
  {
   "cell_type": "code",
   "execution_count": 15,
   "id": "c9eca18b",
   "metadata": {},
   "outputs": [
    {
     "data": {
      "text/html": [
       "<div>\n",
       "<style scoped>\n",
       "    .dataframe tbody tr th:only-of-type {\n",
       "        vertical-align: middle;\n",
       "    }\n",
       "\n",
       "    .dataframe tbody tr th {\n",
       "        vertical-align: top;\n",
       "    }\n",
       "\n",
       "    .dataframe thead th {\n",
       "        text-align: right;\n",
       "    }\n",
       "</style>\n",
       "<table border=\"1\" class=\"dataframe\">\n",
       "  <thead>\n",
       "    <tr style=\"text-align: right;\">\n",
       "      <th></th>\n",
       "      <th>purchase_sum</th>\n",
       "      <th>purchase_count</th>\n",
       "      <th>product_cart_sum</th>\n",
       "      <th>product_cart_count</th>\n",
       "      <th>product_page_sum</th>\n",
       "      <th>product_page_count</th>\n",
       "      <th>conv_product_page</th>\n",
       "      <th>conv_product_cart</th>\n",
       "      <th>conv_purchase</th>\n",
       "    </tr>\n",
       "    <tr>\n",
       "      <th>group</th>\n",
       "      <th></th>\n",
       "      <th></th>\n",
       "      <th></th>\n",
       "      <th></th>\n",
       "      <th></th>\n",
       "      <th></th>\n",
       "      <th></th>\n",
       "      <th></th>\n",
       "      <th></th>\n",
       "    </tr>\n",
       "  </thead>\n",
       "  <tbody>\n",
       "    <tr>\n",
       "      <th>A</th>\n",
       "      <td>2613</td>\n",
       "      <td>6491</td>\n",
       "      <td>2419</td>\n",
       "      <td>6491</td>\n",
       "      <td>5080</td>\n",
       "      <td>6491</td>\n",
       "      <td>0.782622</td>\n",
       "      <td>0.372670</td>\n",
       "      <td>0.402557</td>\n",
       "    </tr>\n",
       "    <tr>\n",
       "      <th>B</th>\n",
       "      <td>1950</td>\n",
       "      <td>5005</td>\n",
       "      <td>1975</td>\n",
       "      <td>5005</td>\n",
       "      <td>3841</td>\n",
       "      <td>5005</td>\n",
       "      <td>0.767433</td>\n",
       "      <td>0.394605</td>\n",
       "      <td>0.389610</td>\n",
       "    </tr>\n",
       "  </tbody>\n",
       "</table>\n",
       "</div>"
      ],
      "text/plain": [
       "       purchase_sum  purchase_count  product_cart_sum  product_cart_count  \\\n",
       "group                                                                       \n",
       "A              2613            6491              2419                6491   \n",
       "B              1950            5005              1975                5005   \n",
       "\n",
       "       product_page_sum  product_page_count  conv_product_page  \\\n",
       "group                                                            \n",
       "A                  5080                6491           0.782622   \n",
       "B                  3841                5005           0.767433   \n",
       "\n",
       "       conv_product_cart  conv_purchase  \n",
       "group                                    \n",
       "A               0.372670       0.402557  \n",
       "B               0.394605       0.389610  "
      ]
     },
     "metadata": {},
     "output_type": "display_data"
    },
    {
     "data": {
      "text/plain": [
       "<Figure size 1200x600 with 0 Axes>"
      ]
     },
     "metadata": {},
     "output_type": "display_data"
    },
    {
     "data": {
      "image/png": "[encoded data removed]",
      "text/plain": [
       "<Figure size 640x480 with 1 Axes>"
      ]
     },
     "metadata": {},
     "output_type": "display_data"
    }
   ],
   "source": [
    "#Filtramos por el primer evento de cada usuario\n",
    "first_events = events_participants.sort_values('event_dt').drop_duplicates(subset=['user_id', 'event_name'])\n",
    "\n",
    "#Creamos una pivot table para organizar los eventos por usuario y grupo\n",
    "funnel= first_events.pivot_table(index=['user_id', 'group'], columns='event_name', values='event_dt', aggfunc='first')\n",
    "\n",
    "#Reemplazamos fechas con 1 y NaNs con 0 para saber si ocurrió el evento\n",
    "funnel_bin = funnel.notna().astype(int).reset_index()\n",
    "\n",
    "#Calculamos la tasa de conversión para cada etapa del embudo\n",
    "#Creamos una lista con los nombres de las etapas del embudo\n",
    "funnel_stages = events_participants['event_name'].unique().tolist()\n",
    "final_funnel = funnel_bin.groupby('group')[funnel_stages].agg(['sum', 'count'])\n",
    "\n",
    "#Renombramos las columnas para que sean más descriptivas\n",
    "final_funnel.columns =  ['_'.join(col) for col in final_funnel.columns]\n",
    "final_funnel['conv_product_page'] = final_funnel['product_page_sum'] / final_funnel['product_page_count']\n",
    "final_funnel['conv_product_cart'] = final_funnel['product_cart_sum'] / final_funnel['product_cart_count']\n",
    "final_funnel['conv_purchase'] = final_funnel['purchase_sum'] / final_funnel['purchase_count']\n",
    "\n",
    "display(final_funnel)\n",
    "\n",
    "#Generamos una gráfica de barras para comparar el grupo A y B por cada etapa del embudo\n",
    "plt.figure(figsize=(12, 6))\n",
    "final_funnel[[col for col in final_funnel.columns if 'conv_' in col]].plot(kind='bar', rot=0)\n",
    "plt.title('Tasa de Conversión por Etapa del Embudo')\n",
    "plt.xlabel('Grupo')\n",
    "plt.ylabel('Tasa de Conversión')\n",
    "plt.xticks(rotation=0)\n",
    "plt.legend(title='Etapa del Embudo')\n",
    "plt.show()"
   ]
  },
  {
   "cell_type": "markdown",
   "id": "8a3fa4f3",
   "metadata": {},
   "source": [
    "    - El grupo B mostró una ligera mejora en la conversión hacia el carrito (product_cart: 39.5 % vs. 37.3 %) respecto al grupo A, lo que sugiere un efecto positivo del sistema de recomendaciones en la intención de compra. Sin embargo, el grupo A mantuvo una conversión marginalmente superior tanto en visitas a producto (product_page) como en compras finales (purchase: 40.3 % vs. 38.9 %). Estos resultados indican que, aunque el nuevo sistema puede incentivar más interacciones intermedias, aún no se traduce en un impacto positivo claro en la conversión final."
   ]
  },
  {
   "cell_type": "markdown",
   "id": "60841977",
   "metadata": {},
   "source": [
    "## Numero de eventos por usuarios"
   ]
  },
  {
   "cell_type": "code",
   "execution_count": 16,
   "id": "21ae067a",
   "metadata": {},
   "outputs": [
    {
     "name": "stdout",
     "output_type": "stream",
     "text": [
      "\n",
      "Promedio de eventos por usuario:\n",
      " group\n",
      "A    4.850642\n",
      "B    4.629146\n",
      "Name: event_count, dtype: float64\n"
     ]
    },
    {
     "name": "stderr",
     "output_type": "stream",
     "text": [
      "/tmp/ipykernel_32134/2836708698.py:7: FutureWarning: \n",
      "\n",
      "Passing `palette` without assigning `hue` is deprecated and will be removed in v0.14.0. Assign the `x` variable to `hue` and set `legend=False` for the same effect.\n",
      "\n",
      "  sns.barplot(data=event_counts, x='group', y='event_count', palette={'A': 'yellow', 'B': 'purple'})\n"
     ]
    },
    {
     "data": {
      "image/png": "[encoded data removed]",
      "text/plain": [
       "<Figure size 1000x600 with 1 Axes>"
      ]
     },
     "metadata": {},
     "output_type": "display_data"
    }
   ],
   "source": [
    "#Calculamos la cantidad de eventos por usuario\n",
    "event_counts = events_participants.groupby(['user_id', 'group']).size().reset_index(name='event_count')\n",
    "print('\\nPromedio de eventos por usuario:\\n', event_counts.groupby('group')['event_count'].mean())\n",
    "\n",
    "#Creamos un gráfico de barras para visualizar la cantidad de eventos por usuario\n",
    "plt.figure(figsize=(10, 6))\n",
    "sns.barplot(data=event_counts, x='group', y='event_count', palette={'A': 'yellow', 'B': 'purple'})\n",
    "plt.title('Cantidad de eventos por usuario por grupo')\n",
    "plt.xlabel('Grupo')\n",
    "plt.ylabel('Cantidad de eventos')\n",
    "plt.show()\n"
   ]
  },
  {
   "cell_type": "markdown",
   "id": "dc0c28e0",
   "metadata": {},
   "source": [
    "    - El grupo A presentó un promedio ligeramente superior de eventos por usuario (4.85) en comparación con el grupo B (4.63). Aunque la diferencia no es abismal, podría indicar una mayor interacción general del grupo de control con la plataforma. Esto refuerza la necesidad de profundizar en la calidad y no solo la cantidad de eventos generados por el sistema de recomendaciones, especialmente si se busca optimizar la experiencia del usuario y maximizar conversiones reales."
   ]
  },
  {
   "cell_type": "markdown",
   "id": "56332429",
   "metadata": {},
   "source": [
    "## Eventos por día de la semana"
   ]
  },
  {
   "cell_type": "code",
   "execution_count": 17,
   "id": "8e8dfd0c",
   "metadata": {},
   "outputs": [
    {
     "name": "stdout",
     "output_type": "stream",
     "text": [
      "\n",
      "Eventos por día de la semana y grupo:\n",
      "   day_of_week group  event_count\n",
      "0       Friday     A         2926\n",
      "1       Friday     B         2088\n",
      "2       Monday     A         6228\n",
      "3       Monday     B         4572\n",
      "4     Saturday     A         4327\n",
      "5     Saturday     B         3075\n",
      "6       Sunday     A         4450\n",
      "7       Sunday     B         3247\n",
      "8     Thursday     A         4259\n",
      "9     Thursday     B         3180\n",
      "10     Tuesday     A         5345\n",
      "11     Tuesday     B         4008\n",
      "12   Wednesday     A         4552\n",
      "13   Wednesday     B         3559\n"
     ]
    },
    {
     "data": {
      "image/png": "[encoded data removed]",
      "text/plain": [
       "<Figure size 1200x600 with 1 Axes>"
      ]
     },
     "metadata": {},
     "output_type": "display_data"
    }
   ],
   "source": [
    "#Agrupamos los eventos de usuario por dia de la semana\n",
    "events_participants['day_of_week'] = events_participants['event_dt'].dt.day_name()\n",
    "events_by_day = events_participants.groupby(['day_of_week', 'group']).size().reset_index(name='event_count')\n",
    "print('\\nEventos por día de la semana y grupo:')\n",
    "print(events_by_day)\n",
    "\n",
    "#Creamos un gráfico de barras para visualizar los eventos por día de la semana\n",
    "plt.figure(figsize=(12, 6))\n",
    "sns.barplot(data=events_by_day, x='day_of_week', y='event_count', hue='group', palette={'A': 'yellow', 'B': 'purple'})\n",
    "plt.title('Eventos por Día de la Semana y Grupo')\n",
    "plt.xlabel('Día de la Semana')\n",
    "plt.ylabel('Cantidad de Eventos')\n",
    "plt.xticks(rotation=45)\n",
    "plt.legend(title='Grupo')\n",
    "plt.show()"
   ]
  },
  {
   "cell_type": "markdown",
   "id": "6e4d8543",
   "metadata": {},
   "source": [
    "    - El análisis del volumen de eventos por día revela que los usuarios de ambos grupos son más activos entre lunes y miércoles, con un pico especialmente alto los lunes. Esto sugiere que el inicio de semana es clave en la interacción con la plataforma, posiblemente ligado a hábitos de navegación o compras post-fin de semana. Estos patrones deben ser considerados al lanzar futuras pruebas A/B o campañas de marketing, ya que el comportamiento del usuario varía claramente según el día y podría afectar los resultados si no se controla adecuadamente."
   ]
  },
  {
   "cell_type": "markdown",
   "id": "81dc75d9",
   "metadata": {},
   "source": [
    "## Peculariadidades en los datos"
   ]
  },
  {
   "cell_type": "markdown",
   "id": "9fb48cf6",
   "metadata": {},
   "source": [
    "    - Durante el análisis se detectó un desbalance en el tamaño de los grupos (grupo A con más usuarios que grupo B), así como participantes sin eventos registrados o fuera del rango de fechas definido por la prueba. Aunque estas situaciones no comprometen directamente la validez del experimento, es crucial controlarlas en futuras pruebas para asegurar una distribución equitativa y evitar ruido en los resultados."
   ]
  },
  {
   "cell_type": "markdown",
   "id": "d3c5590c",
   "metadata": {},
   "source": [
    "# Resultados de la prueba A/B"
   ]
  },
  {
   "cell_type": "markdown",
   "id": "0c25256a",
   "metadata": {},
   "source": [
    "      - Según los registros dejados por el equipo previo, se esperaba un aumento de al menos un 10 % en cada etapa del embudo para el grupo B. Sin embargo, los resultados actuales muestran que, si bien hubo mejoras en algunas etapas, estas no alcanzaron de forma consistente ese umbral ni presentaron diferencias estadísticamente significativas en todos los casos. Esto sugiere que las expectativas iniciales fueron optimistas y que el sistema de recomendaciones necesita ajustes adicionales antes de una implementación definitiva."
   ]
  },
  {
   "cell_type": "markdown",
   "id": "70f4a895",
   "metadata": {},
   "source": [
    "## Z Test"
   ]
  },
  {
   "cell_type": "code",
   "execution_count": 19,
   "id": "5ae57ad0",
   "metadata": {},
   "outputs": [
    {
     "name": "stdout",
     "output_type": "stream",
     "text": [
      "\n",
      "👉 Etapa: product_page\n",
      "Grupo A: 5080/6491 (78.26%)\n",
      "Grupo B: 3841/5005 (76.74%)\n",
      "Estadístico Z: 1.9368\n",
      "Valor p: 0.0264\n",
      "✅ Resultado: diferencia significativa a favor de B\n",
      "\n",
      "👉 Etapa: product_cart\n",
      "Grupo A: 2419/6491 (37.27%)\n",
      "Grupo B: 1975/5005 (39.46%)\n",
      "Estadístico Z: -2.3997\n",
      "Valor p: 0.9918\n",
      "❌ Resultado: no se rechaza H₀, diferencia no significativa\n",
      "\n",
      "👉 Etapa: purchase\n",
      "Grupo A: 2613/6491 (40.26%)\n",
      "Grupo B: 1950/5005 (38.96%)\n",
      "Estadístico Z: 1.4067\n",
      "Valor p: 0.0798\n",
      "❌ Resultado: no se rechaza H₀, diferencia no significativa\n"
     ]
    }
   ],
   "source": [
    "def prueba_z(etapa, verbose=True):\n",
    "    # Éxitos por grupo\n",
    "    éxitos = [\n",
    "        final_funnel.loc['A', f'{etapa}_sum'],\n",
    "        final_funnel.loc['B', f'{etapa}_sum']\n",
    "    ]\n",
    "\n",
    "    # Tamaño de muestra por grupo\n",
    "    muestras = [\n",
    "        final_funnel.loc['A', f'{etapa}_count'],\n",
    "        final_funnel.loc['B', f'{etapa}_count']\n",
    "    ]\n",
    "\n",
    "    # Prueba Z unilateral (alternativa: prop_B > prop_A)\n",
    "    stat, pval = proportions_ztest(count=éxitos, nobs=muestras, alternative='larger')\n",
    "\n",
    "    if verbose:\n",
    "        print(f'\\n👉 Etapa: {etapa}')\n",
    "        print(f'Grupo A: {éxitos[0]}/{muestras[0]} ({éxitos[0]/muestras[0]:.2%})')\n",
    "        print(f'Grupo B: {éxitos[1]}/{muestras[1]} ({éxitos[1]/muestras[1]:.2%})')\n",
    "        print(f'Estadístico Z: {stat:.4f}')\n",
    "        print(f'Valor p: {pval:.4f}')\n",
    "        if pval < 0.05:\n",
    "            print(\"✅ Resultado: diferencia significativa a favor de B\")\n",
    "        else:\n",
    "            print(\"❌ Resultado: no se rechaza H₀, diferencia no significativa\")\n",
    "\n",
    "# Ejecutar para cada etapa\n",
    "for etapa in ['product_page', 'product_cart', 'purchase']:\n",
    "    prueba_z(etapa)"
   ]
  },
  {
   "cell_type": "markdown",
   "id": "ef2585c6",
   "metadata": {},
   "source": [
    "# Conclusiones"
   ]
  },
  {
   "cell_type": "markdown",
   "id": "efd22aaf",
   "metadata": {},
   "source": [
    "El análisis de la prueba A/B del sistema de recomendaciones muestra que, durante los 14 días posteriores al registro, el grupo B (nuevo sistema) presentó una tasa de conversión superior en algunas etapas del embudo de compra, aunque no todas las diferencias fueron estadísticamente significativas. Esto indica que el nuevo sistema tiene potencial, especialmente en la etapa inicial (product_page), donde los usuarios parecen más propensos a interactuar con productos recomendados. Sin embargo, esta ventaja inicial no se traduce de forma contundente en un aumento significativo de compras, por lo que el beneficio comercial total es, por ahora, moderado.\n",
    "\n",
    "A futuro, se recomienda realizar una nueva iteración del experimento con mayor enfoque en optimizar la experiencia posterior al \"add to cart\", ya que parece ser el cuello de botella principal. Además, sería útil probar diferentes versiones del sistema de recomendaciones segmentadas por tipo de dispositivo o perfil de usuario. Finalmente, asegurar una asignación más balanceada de usuarios entre grupos y extender el periodo de observación podrían ayudar a obtener conclusiones más sólidas sobre la retención y el valor a largo plazo del nuevo sistema."
   ]
  },
  {
   "cell_type": "markdown",
   "id": "1de30047",
   "metadata": {},
   "source": []
  }
 ],
 "metadata": {
  "kernelspec": {
   "display_name": ".venv",
   "language": "python",
   "name": "python3"
  },
  "language_info": {
   "codemirror_mode": {
    "name": "ipython",
    "version": 3
   },
   "file_extension": ".py",
   "mimetype": "text/x-python",
   "name": "python",
   "nbconvert_exporter": "python",
   "pygments_lexer": "ipython3",
   "version": "3.12.3"
  }
 },
 "nbformat": 4,
 "nbformat_minor": 5
}
