{
 "cells": [
  {
   "cell_type": "markdown",
   "id": "da40d474",
   "metadata": {},
   "source": [
    "# Introducción\n",
    "A continuación detalla el plan de trabajo para el análisis de datos del servicio de telefonía virtual CallMeMaybe. El objetivo principal es identificar a los operadores menos eficaces basándose en métricas clave de rendimiento. Esta iniciativa busca proporcionar a los supervisores información valiosa para mejorar la eficiencia operativa y la calidad del servicio."
   ]
  },
  {
   "cell_type": "markdown",
   "id": "b6ec4efe",
   "metadata": {},
   "source": [
    "# Objetivo del proyecto\n",
    "El objetivo principal de este proyecto es identificar a los operadores menos eficientes utilizando datos históricos de llamadas. Se considerará a un operador ineficaz si cumple con uno o más de los siguientes criterios:\n",
    "- Alta cantidad de llamadas entrantes perdidas (internas y externas).\n",
    "- Tiempo de espera prolongado para las llamadas entrantes.\n",
    "- Bajo número de llamadas salientes externas.\n",
    "\n",
    "Además, para entender el contexto de la ineficacia, se analizará:\n",
    "- La baja cantidad de llamadas internas y externas (un indicador de baja actividad general, si el rol del operador lo requiere).\n",
    "- La cantidad de llamadas entrantes de clientes dependiendo de su tipo de plan (tariff_plan) y su fecha de ingreso al plan (date_start). \n",
    "\n",
    "Esto ayudará a contextualizar la carga de trabajo y el rendimiento del operador."
   ]
  },
  {
   "cell_type": "markdown",
   "id": "3b7f4a45",
   "metadata": {},
   "source": [
    "# Descripción de los Datos\n",
    "Se utilizarán dos datasets principales para este análisis:\n",
    "\n",
    "1. telecom_dataset_us.csv\n",
    "Este dataset contiene la información detallada de las llamadas realizadas a través del servicio CallMeMaybe.\n",
    "    - **user_id:** ID de la cuenta del cliente.\n",
    "    - **date:** Fecha en que se recuperaron las estadísticas.\n",
    "    - **direction:** Dirección de la llamada (\"out\" para saliente, \"in\" para entrante).\n",
    "    - **internal:** Indica si la llamada fue interna (entre operadores del mismo cliente).\n",
    "    - **operator_id:** Identificador único del operador.\n",
    "    - **is_missed_call:** Booleano que indica si fue una llamada perdida.\n",
    "    - **calls_count:** Número de llamadas.\n",
    "    - **call_duration:** Duración de la llamada (sin incluir el tiempo de espera).\n",
    "    - **total_call_duration:** Duración total de la llamada (incluido el tiempo de espera).\n",
    "\n",
    "2. telecom_clients_us.csv\n",
    "Este dataset proporciona información sobre los clientes de CallMeMaybe.\n",
    "    - **user_id:** ID de usuario/a.\n",
    "    - **tariff_plan:** Tarifa actual del cliente.\n",
    "    - **date_start:** Fecha de registro del cliente."
   ]
  },
  {
   "cell_type": "markdown",
   "id": "884ea78b",
   "metadata": {},
   "source": [
    "# Métricas clave para la Ineficiencia\n",
    "Para identificar a los operadores ineficaces, se definirán las siguientes métricas, que serán calculadas para cada operador:\n",
    "- Cantidad de llamadas entrantes perdidas: Suma de **calls_count** donde **direction** es *\"in\"* y **is_missed_call** es *True*. Esto incluirá llamadas internas y externas perdidas.\n",
    "- Tiempo promedio de espera para llamadas entrantes: Se calculará como **total_call_duration - call_duration** para llamadas entrantes (direction es *\"in\"*). Se determinará el promedio de este valor por operador.\n",
    "- Cantidad de llamadas salientes: Suma de **calls_count** donde direction es *\"out\"*. Se analizará esto en relación con las expectativas del rol del operador.\n",
    "- Cantidad de llamadas salientes externas: Suma de **calls_count** donde direction es *\"out\"* e internal es *False*. Una baja cantidad será un signo de ineficacia.\n",
    "- Contexto de llamadas entrantes por cliente: Se analizará la cantidad de llamadas entrantes de clientes, considerando su **tariff_plan** y **date_start**, para entender si hay un impacto en el volumen de llamadas que los operadores deben manejar."
   ]
  },
  {
   "cell_type": "markdown",
   "id": "ff325cef",
   "metadata": {},
   "source": [
    "# Fases del plan de trabajo\n",
    "## Fase 1: Recopilación y Preparación de Datos\n",
    "- Cargar los datasets: Importar telecom_dataset_us.csv y telecom_clients_us.csv en un entorno de análisis (Python/Pandas).\n",
    "\n",
    "- Inspeccionar los datos:\n",
    "    - Revisar las primeras filas de cada dataframe.\n",
    "    - Verificar los tipos de datos de cada columna.\n",
    "    - Identificar valores nulos o faltantes y decidir la estrategia de manejo (imputación, eliminación, etc.).\n",
    "\n",
    "- Combinar datasets: Realizar un merge de los dos dataframes utilizando user_id para enriquecer la información de las llamadas con los detalles del cliente.\n",
    "\n",
    "- Ingeniería de características:\n",
    "    - Calcular el tiempo de espera de la llamada (total_call_duration - call_duration).\n",
    "    - Convertir las columnas de fecha (date, date_start) a formato datetime para facilitar el análisis temporal.\n",
    "\n",
    "- Eliminación de valores atípicos: \n",
    "    - Para garantizar que el análisis se base en datos representativos y evitar la distorsión por valores extremos, se eliminarán los valores atípicos. Se mantendrá solo el 95% de los datos estándar para las métricas clave como calls_count, call_duration, total_call_duration y el tiempo de espera. Esto se puede lograr utilizando métodos como el rango intercuartílico (IQR) o el percentil.\n",
    "\n",
    "## Fase 2: Análisis Exploratorio de Datos (EDA)\n",
    "- Estadísticas descriptivas:\n",
    "    - Obtener estadísticas básicas (media, mediana, desviación estándar, cuartiles) para calls_count, call_duration, total_call_duration y la nueva columna de tiempo de espera.\n",
    "    - Analizar la distribución de las variables numéricas.\n",
    "\n",
    "- Análisis de distribución de llamadas:\n",
    "    -   Distribución de llamadas por direction (entrantes vs. salientes).\n",
    "    - Distribución de llamadas por internal (internas vs. externas).\n",
    "    - Proporción de llamadas perdidas (is_missed_call).\n",
    "\n",
    "- Análisis por operador:\n",
    "    - Número de llamadas por operator_id.\n",
    "    - Duración promedio de llamadas por operator_id.\n",
    "    - Número de llamadas perdidas por operator_id.\n",
    "    - Tiempo promedio de espera por operator_id.\n",
    "\n",
    "- Análisis temporal:\n",
    "    - Tendencias de llamadas a lo largo del tiempo (date).\n",
    "    - Impacto de la fecha de inicio del cliente (date_start) y tariff_plan en el volumen de llamadas.\n",
    "\n",
    "- Visualizaciones:\n",
    "    - Histogramas y gráficos de densidad para distribuciones de variables clave.\n",
    "    - Gráficos de barras para comparar métricas por operador.\n",
    "    - Gráficos de series de tiempo para tendencias diarias/semanales.\n",
    "    - Gráficos de dispersión para identificar posibles correlaciones entre métricas.\n",
    "\n",
    "## Fase 3: Identificación de Operadores Ineficaces\n",
    "- Cálculo de métricas por operador:\n",
    "    - Agrupar los datos por operator_id y calcular las métricas definidas en la sección 4 (cantidad de llamadas salientes externas, cantidad de llamadas perdidas, tiempo promedio de espera).\n",
    "\n",
    "- Definición de umbrales de ineficacia:\n",
    "    - Establecer umbrales estadísticos o basados en el negocio para cada métrica (ej., operadores en el cuartil superior de llamadas perdidas, operadores con tiempo de espera por encima de X segundos, operadores en el cuartil inferior de llamadas salientes externas).\n",
    "    - Considerar el contexto de cada operador (por ejemplo, algunos operadores solo gestionan llamadas entrantes, otros solo salientes, y algunos ambos). Esto puede requerir una segmentación previa de los operadores.\n",
    "\n",
    "- Listado de operadores ineficaces: Generar una lista de operator_id que cumplan con los criterios de ineficacia.\n",
    "\n",
    "## Fase 4: Pruebas de Hipótesis Estadísticas\n",
    "Se formularán y probarán hipótesis para validar las observaciones del EDA y la identificación de operadores ineficaces. Ejemplos de hipótesis a probar:\n",
    "\n",
    "- Hipótesis 1 (Llamadas Salientes Externas): ¿Existe una diferencia estadísticamente significativa en el número de llamadas salientes externas entre los operadores identificados como ineficaces y los operadores promedio?\n",
    "    - Prueba: Prueba t de Student o Mann-Whitney U test (dependiendo de la normalidad de la distribución).\n",
    "\n",
    "- Hipótesis 2 (Llamadas Perdidas): ¿El número de llamadas perdidas de los operadores ineficaces es significativamente mayor que el de los operadores eficaces?\n",
    "    - Prueba: Prueba t de Student o Mann-Whitney U test.\n",
    "\n",
    "- Hipótesis 3 (Tiempo de Espera): ¿El tiempo de espera promedio para los operadores ineficaces es significativamente mayor que el de los operadores eficaces?\n",
    "    -Prueba: Prueba t de Student o Mann-Whitney U test.\n",
    "\n",
    "- Hipótesis 4 (Impacto del Cliente): ¿Existe una correlación entre el tariff_plan o date_start del cliente y el volumen de llamadas entrantes o la tasa de llamadas perdidas de los operadores?\n",
    "    - Prueba: ANOVA (para tariff_plan) o análisis de correlación (para date_start)."
   ]
  },
  {
   "cell_type": "markdown",
   "id": "13bc4e17",
   "metadata": {},
   "source": [
    "# Resultados Esperados\n",
    "Al finalizar este proyecto, se espera obtener:\n",
    "- Un análisis exploratorio de datos completo y visualizaciones que destaquen patrones y anomalías en el comportamiento de las llamadas.\n",
    "- Una lista clara de operadores identificados como ineficaces, junto con las métricas que respaldan esta clasificación.\n",
    "- Conclusiones de las pruebas de hipótesis estadísticas que validen o refuten las observaciones iniciales y proporcionen una base sólida para las recomendaciones.\n",
    "- Un informe detallado con hallazgos, conclusiones y recomendaciones accionables para los supervisores de CallMeMaybe."
   ]
  },
  {
   "cell_type": "markdown",
   "id": "9ebac28a",
   "metadata": {},
   "source": [
    "# Próximos Pasos\n",
    "Una vez completado el análisis, se presentarán los hallazgos a los stakeholders por medio de los siguientes tres elementos entregables:\n",
    "1. Un notebook(.ipynb)\n",
    "2. Una presentación (.pdf)\n",
    "3. Un archivo de texto (`dashboard.txt`). Este contendrá un enlace al dashboard de Tableau Public."
   ]
  },
  {
   "cell_type": "markdown",
   "id": "60eddc51",
   "metadata": {},
   "source": []
  }
 ],
 "metadata": {
  "kernelspec": {
   "display_name": ".venv",
   "language": "python",
   "name": "python3"
  },
  "language_info": {
   "codemirror_mode": {
    "name": "ipython",
    "version": 3
   },
   "file_extension": ".py",
   "mimetype": "text/x-python",
   "name": "python",
   "nbconvert_exporter": "python",
   "pygments_lexer": "ipython3",
   "version": "3.12.3"
  }
 },
 "nbformat": 4,
 "nbformat_minor": 5
}
