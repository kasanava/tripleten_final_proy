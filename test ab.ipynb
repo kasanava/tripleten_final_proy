{
 "cells": [
  {
   "cell_type": "markdown",
   "id": "a427e8e0",
   "metadata": {},
   "source": [
    "# Descripción del proyecto\n",
    "Has recibido una tarea analítica de una tienda en línea internacional. Tus predecesores no consiguieron completarla: lanzaron una prueba A/B y luego abandonaron (para iniciar una granja de sandías en Brasil). Solo dejaron las especificaciones técnicas y los resultados de las pruebas.\n",
    "\n",
    "## Descripción técnica\n",
    "- Nombre de la prueba: recommender_system_test\n",
    "- Grupos: А (control), B (nuevo embudo de pago)\n",
    "- Fecha de lanzamiento: 2020-12-07\n",
    "- Fecha en la que dejaron de aceptar nuevos usuarios: 2020-12-21\n",
    "- Fecha de finalización: 2021-01-01\n",
    "- Audiencia: 15% de los nuevos usuarios de la región de la UE\n",
    "- Propósito de la prueba: probar cambios relacionados con la introducción de un sistema de recomendaciones mejorado\n",
    "- Resultado esperado: dentro de los 14 días posteriores a la inscripción, los usuarios mostrarán una mejor conversión en vistas de la página del producto (el evento product_page), instancias de agregar artículos al carrito de compras (product_cart) y compras (purchase). - En cada etapa del embudo product_page → product_cart → purchase, habrá al menos un 10% de aumento.\n",
    "- Número previsto de participantes de la prueba: 6 000\n",
    "\n",
    "## Descripción de los datos\n",
    "Estructura de los CSV:\n",
    "- **ab_project_marketing_events_us.csv** — el calendario de eventos de marketing para 2020\n",
    "- **final_ab_new_users_upd_us.csv** — todos los usuarios que se registraron en la tienda en línea desde el 7 hasta el 21 de diciembre de 2020\n",
    "- **final_ab_events_upd_us.csv** — todos los eventos de los nuevos usuarios en el período comprendido entre el 7 de diciembre de 2020 y el 1 de enero de 2021\n",
    "- **final_ab_participants_upd_us.csv** — tabla con los datos de los participantes de la prueba\n",
    "\n",
    "Estructura **ab_project__marketing_events_us.csv:**\n",
    "- name — el nombre del evento de marketing\n",
    "- regions — regiones donde se llevará a cabo la campaña publicitaria\n",
    "- start_dt — fecha de inicio de la campaña\n",
    "- finish_dt — fecha de finalización de la campaña\n",
    "\n",
    "Estructura **final_ab_new_users_upd_us.csv:**\n",
    "- user_id\n",
    "- first_date — fecha de inscripción\n",
    "- region\n",
    "- device — dispositivo utilizado para la inscripción\n",
    "\n",
    "Estructura **final_ab_events_upd_us.csv:**\n",
    "- user_id\n",
    "- event_dt — fecha y hora del evento\n",
    "- event_name — nombre del tipo de evento\n",
    "- details — datos adicionales sobre el evento (por ejemplo, el pedido total en USD para los eventos purchase)\n",
    "\n",
    "Estructura **final_ab_participants_upd_us.csv:**\n",
    "- user_id\n",
    "- ab_test — nombre de la prueba\n",
    "- group — el grupo de prueba al que pertenecía el usuario\n"
   ]
  },
  {
   "cell_type": "markdown",
   "id": "574ee735",
   "metadata": {},
   "source": [
    "# Objetivo del estudio\n",
    "Analizar y compruebar si se ha realizado correctamente el estudio de **factibilidad de una granja de sandías en Brasil**; aplicar las pruebas necesarias y analizar los resultados.\n"
   ]
  },
  {
   "cell_type": "markdown",
   "id": "f88ff1f3",
   "metadata": {},
   "source": [
    "# Análisis Explatorio"
   ]
  },
  {
   "cell_type": "code",
   "execution_count": 3,
   "id": "e96aad2e",
   "metadata": {},
   "outputs": [],
   "source": [
    "#Importado de bibliotecas\n",
    "import pandas as pd\n",
    "import numpy as np\n",
    "import matplotlib.pyplot as plt\n",
    "import seaborn as sns"
   ]
  },
  {
   "cell_type": "code",
   "execution_count": 4,
   "id": "2a91ef74",
   "metadata": {},
   "outputs": [],
   "source": [
    "#Carga de los archivos CSV\n",
    "mkt_events = pd.read_csv('datasets/ab_project_marketing_events_us.csv')\n",
    "events = pd.read_csv('datasets/final_ab_events_upd_us.csv')\n",
    "new_users = pd.read_csv('datasets/final_ab_new_users_upd_us.csv')\n",
    "participants = pd.read_csv('datasets/final_ab_participants_upd_us.csv')"
   ]
  },
  {
   "cell_type": "code",
   "execution_count": 7,
   "id": "01d69ca8",
   "metadata": {},
   "outputs": [
    {
     "name": "stdout",
     "output_type": "stream",
     "text": [
      "<class 'pandas.core.frame.DataFrame'>\n",
      "RangeIndex: 14 entries, 0 to 13\n",
      "Data columns (total 4 columns):\n",
      " #   Column     Non-Null Count  Dtype \n",
      "---  ------     --------------  ----- \n",
      " 0   name       14 non-null     object\n",
      " 1   regions    14 non-null     object\n",
      " 2   start_dt   14 non-null     object\n",
      " 3   finish_dt  14 non-null     object\n",
      "dtypes: object(4)\n",
      "memory usage: 580.0+ bytes\n"
     ]
    },
    {
     "data": {
      "text/html": [
       "<div>\n",
       "<style scoped>\n",
       "    .dataframe tbody tr th:only-of-type {\n",
       "        vertical-align: middle;\n",
       "    }\n",
       "\n",
       "    .dataframe tbody tr th {\n",
       "        vertical-align: top;\n",
       "    }\n",
       "\n",
       "    .dataframe thead th {\n",
       "        text-align: right;\n",
       "    }\n",
       "</style>\n",
       "<table border=\"1\" class=\"dataframe\">\n",
       "  <thead>\n",
       "    <tr style=\"text-align: right;\">\n",
       "      <th></th>\n",
       "      <th>name</th>\n",
       "      <th>regions</th>\n",
       "      <th>start_dt</th>\n",
       "      <th>finish_dt</th>\n",
       "    </tr>\n",
       "  </thead>\n",
       "  <tbody>\n",
       "    <tr>\n",
       "      <th>12</th>\n",
       "      <td>Single's Day Gift Promo</td>\n",
       "      <td>APAC</td>\n",
       "      <td>2020-11-11</td>\n",
       "      <td>2020-11-12</td>\n",
       "    </tr>\n",
       "    <tr>\n",
       "      <th>8</th>\n",
       "      <td>International Women's Day Promo</td>\n",
       "      <td>EU, CIS, APAC</td>\n",
       "      <td>2020-03-08</td>\n",
       "      <td>2020-03-10</td>\n",
       "    </tr>\n",
       "    <tr>\n",
       "      <th>5</th>\n",
       "      <td>Black Friday Ads Campaign</td>\n",
       "      <td>EU, CIS, APAC, N.America</td>\n",
       "      <td>2020-11-26</td>\n",
       "      <td>2020-12-01</td>\n",
       "    </tr>\n",
       "    <tr>\n",
       "      <th>1</th>\n",
       "      <td>St. Valentine's Day Giveaway</td>\n",
       "      <td>EU, CIS, APAC, N.America</td>\n",
       "      <td>2020-02-14</td>\n",
       "      <td>2020-02-16</td>\n",
       "    </tr>\n",
       "    <tr>\n",
       "      <th>11</th>\n",
       "      <td>Dragon Boat Festival Giveaway</td>\n",
       "      <td>APAC</td>\n",
       "      <td>2020-06-25</td>\n",
       "      <td>2020-07-01</td>\n",
       "    </tr>\n",
       "  </tbody>\n",
       "</table>\n",
       "</div>"
      ],
      "text/plain": [
       "                               name                   regions    start_dt  \\\n",
       "12          Single's Day Gift Promo                      APAC  2020-11-11   \n",
       "8   International Women's Day Promo             EU, CIS, APAC  2020-03-08   \n",
       "5         Black Friday Ads Campaign  EU, CIS, APAC, N.America  2020-11-26   \n",
       "1      St. Valentine's Day Giveaway  EU, CIS, APAC, N.America  2020-02-14   \n",
       "11    Dragon Boat Festival Giveaway                      APAC  2020-06-25   \n",
       "\n",
       "     finish_dt  \n",
       "12  2020-11-12  \n",
       "8   2020-03-10  \n",
       "5   2020-12-01  \n",
       "1   2020-02-16  \n",
       "11  2020-07-01  "
      ]
     },
     "execution_count": 7,
     "metadata": {},
     "output_type": "execute_result"
    }
   ],
   "source": [
    "#Exploración de los datos del DF mkt_events\n",
    "mkt_events.info()\n",
    "mkt_events.sample(5)"
   ]
  },
  {
   "cell_type": "code",
   "execution_count": null,
   "id": "2c80ac30",
   "metadata": {},
   "outputs": [],
   "source": []
  },
  {
   "cell_type": "markdown",
   "id": "5fd18cdf",
   "metadata": {},
   "source": []
  }
 ],
 "metadata": {
  "kernelspec": {
   "display_name": ".venv",
   "language": "python",
   "name": "python3"
  },
  "language_info": {
   "codemirror_mode": {
    "name": "ipython",
    "version": 3
   },
   "file_extension": ".py",
   "mimetype": "text/x-python",
   "name": "python",
   "nbconvert_exporter": "python",
   "pygments_lexer": "ipython3",
   "version": "3.12.3"
  }
 },
 "nbformat": 4,
 "nbformat_minor": 5
}
