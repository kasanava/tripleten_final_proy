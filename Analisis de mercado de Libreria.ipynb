{
 "cells": [
  {
   "cell_type": "markdown",
   "id": "e625c1e3",
   "metadata": {},
   "source": [
    "## Descripción de los datos"
   ]
  },
  {
   "cell_type": "markdown",
   "id": "55a3c28c",
   "metadata": {},
   "source": [
    "***books:***\n",
    "\n",
    "Contiene datos sobre libros:\n",
    "\n",
    "- book_id — identificación del libro\n",
    "- author_id — identificación del autor o autora\n",
    "- title — título\n",
    "- num_pages — número de páginas\n",
    "- publication_date — fecha de la publicación\n",
    "- publisher_id — identificación de la editorial\n",
    "\n",
    "***authors:***\n",
    "\n",
    "Contiene datos sobre autores:\n",
    "\n",
    "- author_id — identificación del autor o autora\n",
    "- author — el autor o la autora\n",
    "\n",
    "***publishers:***\n",
    "\n",
    "Contiene datos sobre editoriales:\n",
    "\n",
    "- publisher_id — identificación de la editorial\n",
    "- publisher — la editorial\n",
    "\n",
    "***ratings:***\n",
    "\n",
    "Contiene datos sobre las calificaciones de usuarios:\n",
    "\n",
    "- rating_id — identificación de la calificación\n",
    "- book_id — identificación del libro\n",
    "- username — el nombre del usuario que revisó el libro\n",
    "- rating — calificación\n",
    "\n",
    "***reviews:***\n",
    "\n",
    "Contiene datos sobre las reseñas de los y las clientes:\n",
    "\n",
    "- review_id — identificación de la reseña\n",
    "- book_id — identificación del libro\n",
    "- username — el nombre del usuario que revisó el libro\n",
    "- text — el texto de la reseña"
   ]
  },
  {
   "cell_type": "markdown",
   "id": "677dd99f",
   "metadata": {},
   "source": [
    "# Objetivos del estudio"
   ]
  },
  {
   "cell_type": "markdown",
   "id": "77d49edf",
   "metadata": {},
   "source": [
    "Durante la pandemia por COVID-19, el mundo entero experimentó un cambio radical en sus hábitos de consumo de tiempo libre. Las salidas al cine, cafés y centros comerciales fueron reemplazadas por actividades dentro del hogar, y entre ellas, la lectura brilló con fuerza. Este contexto abrió la puerta para que startups tecnológicas buscaran posicionarse con aplicaciones dirigidas a los amantes de los libros.\n",
    "\n",
    "El objetivo de este proyecto es analizar los datos proporcionados por un servicio en este mercado emergente. La base de datos incluye información sobre libros, autores, editoriales, calificaciones y reseñas de usuarios. A través del análisis de estos datos, se busca:\n",
    "\n",
    "- Identificar patrones clave en la publicación y recepción de libros.\n",
    "- Descubrir a los autores, editoriales y usuarios más influyentes.\n",
    "- Establecer bases sólidas para diseñar una propuesta de valor atractiva para una nueva aplicación dedicada a lectores.\n",
    "\n",
    "En otras palabras, vamos a escarbar entre letras, números y estrellas (de calificación, claro) para entender qué mueve al lector moderno, ver cómo podese podría conquistar este mercado y generar una propuesta de valor para un nuevo producto."
   ]
  },
  {
   "cell_type": "markdown",
   "id": "ee742b53",
   "metadata": {},
   "source": [
    "# Configuración inicial"
   ]
  },
  {
   "cell_type": "code",
   "execution_count": 66,
   "id": "f8ff13d6",
   "metadata": {},
   "outputs": [],
   "source": [
    "#Biblioteca a importar\n",
    "import pandas as pd\n",
    "from sqlalchemy import create_engine\n",
    "import os\n",
    "from dotenv import load_dotenv"
   ]
  },
  {
   "cell_type": "code",
   "execution_count": 67,
   "id": "9a7a7fb2",
   "metadata": {},
   "outputs": [],
   "source": [
    "#Conexión a la base de datos\n",
    "load_dotenv()\n",
    "\n",
    "DB_USER = os.getenv(\"DB_USER\")\n",
    "DB_PASSWORD = os.getenv(\"DB_PASSWORD\")\n",
    "DB_HOST = os.getenv(\"DB_HOST\")\n",
    "DB_PORT = os.getenv(\"DB_PORT\")\n",
    "DB_NAME = os.getenv(\"DB_NAME\")\n",
    "\n",
    "engine = create_engine(f'postgresql://{DB_USER}:{DB_PASSWORD}@{DB_HOST}:{DB_PORT}/{DB_NAME}')\n"
   ]
  },
  {
   "cell_type": "markdown",
   "id": "99959a4e",
   "metadata": {},
   "source": [
    "# Análisis inicial"
   ]
  },
  {
   "cell_type": "code",
   "execution_count": 68,
   "id": "ac501c76",
   "metadata": {},
   "outputs": [
    {
     "name": "stdout",
     "output_type": "stream",
     "text": [
      "Tabla: books\n"
     ]
    },
    {
     "data": {
      "text/html": [
       "<div>\n",
       "<style scoped>\n",
       "    .dataframe tbody tr th:only-of-type {\n",
       "        vertical-align: middle;\n",
       "    }\n",
       "\n",
       "    .dataframe tbody tr th {\n",
       "        vertical-align: top;\n",
       "    }\n",
       "\n",
       "    .dataframe thead th {\n",
       "        text-align: right;\n",
       "    }\n",
       "</style>\n",
       "<table border=\"1\" class=\"dataframe\">\n",
       "  <thead>\n",
       "    <tr style=\"text-align: right;\">\n",
       "      <th></th>\n",
       "      <th>book_id</th>\n",
       "      <th>author_id</th>\n",
       "      <th>title</th>\n",
       "      <th>num_pages</th>\n",
       "      <th>publication_date</th>\n",
       "      <th>publisher_id</th>\n",
       "    </tr>\n",
       "  </thead>\n",
       "  <tbody>\n",
       "    <tr>\n",
       "      <th>0</th>\n",
       "      <td>1</td>\n",
       "      <td>546</td>\n",
       "      <td>'Salem's Lot</td>\n",
       "      <td>594</td>\n",
       "      <td>2005-11-01</td>\n",
       "      <td>93</td>\n",
       "    </tr>\n",
       "    <tr>\n",
       "      <th>1</th>\n",
       "      <td>2</td>\n",
       "      <td>465</td>\n",
       "      <td>1 000 Places to See Before You Die</td>\n",
       "      <td>992</td>\n",
       "      <td>2003-05-22</td>\n",
       "      <td>336</td>\n",
       "    </tr>\n",
       "    <tr>\n",
       "      <th>2</th>\n",
       "      <td>3</td>\n",
       "      <td>407</td>\n",
       "      <td>13 Little Blue Envelopes (Little Blue Envelope...</td>\n",
       "      <td>322</td>\n",
       "      <td>2010-12-21</td>\n",
       "      <td>135</td>\n",
       "    </tr>\n",
       "    <tr>\n",
       "      <th>3</th>\n",
       "      <td>4</td>\n",
       "      <td>82</td>\n",
       "      <td>1491: New Revelations of the Americas Before C...</td>\n",
       "      <td>541</td>\n",
       "      <td>2006-10-10</td>\n",
       "      <td>309</td>\n",
       "    </tr>\n",
       "    <tr>\n",
       "      <th>4</th>\n",
       "      <td>5</td>\n",
       "      <td>125</td>\n",
       "      <td>1776</td>\n",
       "      <td>386</td>\n",
       "      <td>2006-07-04</td>\n",
       "      <td>268</td>\n",
       "    </tr>\n",
       "  </tbody>\n",
       "</table>\n",
       "</div>"
      ],
      "text/plain": [
       "   book_id  author_id                                              title  \\\n",
       "0        1        546                                       'Salem's Lot   \n",
       "1        2        465                 1 000 Places to See Before You Die   \n",
       "2        3        407  13 Little Blue Envelopes (Little Blue Envelope...   \n",
       "3        4         82  1491: New Revelations of the Americas Before C...   \n",
       "4        5        125                                               1776   \n",
       "\n",
       "   num_pages publication_date  publisher_id  \n",
       "0        594       2005-11-01            93  \n",
       "1        992       2003-05-22           336  \n",
       "2        322       2010-12-21           135  \n",
       "3        541       2006-10-10           309  \n",
       "4        386       2006-07-04           268  "
      ]
     },
     "metadata": {},
     "output_type": "display_data"
    },
    {
     "name": "stdout",
     "output_type": "stream",
     "text": [
      "Tabla: authors\n"
     ]
    },
    {
     "data": {
      "text/html": [
       "<div>\n",
       "<style scoped>\n",
       "    .dataframe tbody tr th:only-of-type {\n",
       "        vertical-align: middle;\n",
       "    }\n",
       "\n",
       "    .dataframe tbody tr th {\n",
       "        vertical-align: top;\n",
       "    }\n",
       "\n",
       "    .dataframe thead th {\n",
       "        text-align: right;\n",
       "    }\n",
       "</style>\n",
       "<table border=\"1\" class=\"dataframe\">\n",
       "  <thead>\n",
       "    <tr style=\"text-align: right;\">\n",
       "      <th></th>\n",
       "      <th>author_id</th>\n",
       "      <th>author</th>\n",
       "    </tr>\n",
       "  </thead>\n",
       "  <tbody>\n",
       "    <tr>\n",
       "      <th>0</th>\n",
       "      <td>1</td>\n",
       "      <td>A.S. Byatt</td>\n",
       "    </tr>\n",
       "    <tr>\n",
       "      <th>1</th>\n",
       "      <td>2</td>\n",
       "      <td>Aesop/Laura Harris/Laura Gibbs</td>\n",
       "    </tr>\n",
       "    <tr>\n",
       "      <th>2</th>\n",
       "      <td>3</td>\n",
       "      <td>Agatha Christie</td>\n",
       "    </tr>\n",
       "    <tr>\n",
       "      <th>3</th>\n",
       "      <td>4</td>\n",
       "      <td>Alan Brennert</td>\n",
       "    </tr>\n",
       "    <tr>\n",
       "      <th>4</th>\n",
       "      <td>5</td>\n",
       "      <td>Alan Moore/David   Lloyd</td>\n",
       "    </tr>\n",
       "  </tbody>\n",
       "</table>\n",
       "</div>"
      ],
      "text/plain": [
       "   author_id                          author\n",
       "0          1                      A.S. Byatt\n",
       "1          2  Aesop/Laura Harris/Laura Gibbs\n",
       "2          3                 Agatha Christie\n",
       "3          4                   Alan Brennert\n",
       "4          5        Alan Moore/David   Lloyd"
      ]
     },
     "metadata": {},
     "output_type": "display_data"
    },
    {
     "name": "stdout",
     "output_type": "stream",
     "text": [
      "Tabla: publishers\n"
     ]
    },
    {
     "data": {
      "text/html": [
       "<div>\n",
       "<style scoped>\n",
       "    .dataframe tbody tr th:only-of-type {\n",
       "        vertical-align: middle;\n",
       "    }\n",
       "\n",
       "    .dataframe tbody tr th {\n",
       "        vertical-align: top;\n",
       "    }\n",
       "\n",
       "    .dataframe thead th {\n",
       "        text-align: right;\n",
       "    }\n",
       "</style>\n",
       "<table border=\"1\" class=\"dataframe\">\n",
       "  <thead>\n",
       "    <tr style=\"text-align: right;\">\n",
       "      <th></th>\n",
       "      <th>publisher_id</th>\n",
       "      <th>publisher</th>\n",
       "    </tr>\n",
       "  </thead>\n",
       "  <tbody>\n",
       "    <tr>\n",
       "      <th>0</th>\n",
       "      <td>1</td>\n",
       "      <td>Ace</td>\n",
       "    </tr>\n",
       "    <tr>\n",
       "      <th>1</th>\n",
       "      <td>2</td>\n",
       "      <td>Ace Book</td>\n",
       "    </tr>\n",
       "    <tr>\n",
       "      <th>2</th>\n",
       "      <td>3</td>\n",
       "      <td>Ace Books</td>\n",
       "    </tr>\n",
       "    <tr>\n",
       "      <th>3</th>\n",
       "      <td>4</td>\n",
       "      <td>Ace Hardcover</td>\n",
       "    </tr>\n",
       "    <tr>\n",
       "      <th>4</th>\n",
       "      <td>5</td>\n",
       "      <td>Addison Wesley Publishing Company</td>\n",
       "    </tr>\n",
       "  </tbody>\n",
       "</table>\n",
       "</div>"
      ],
      "text/plain": [
       "   publisher_id                          publisher\n",
       "0             1                                Ace\n",
       "1             2                           Ace Book\n",
       "2             3                          Ace Books\n",
       "3             4                      Ace Hardcover\n",
       "4             5  Addison Wesley Publishing Company"
      ]
     },
     "metadata": {},
     "output_type": "display_data"
    },
    {
     "name": "stdout",
     "output_type": "stream",
     "text": [
      "Tabla: ratings\n"
     ]
    },
    {
     "data": {
      "text/html": [
       "<div>\n",
       "<style scoped>\n",
       "    .dataframe tbody tr th:only-of-type {\n",
       "        vertical-align: middle;\n",
       "    }\n",
       "\n",
       "    .dataframe tbody tr th {\n",
       "        vertical-align: top;\n",
       "    }\n",
       "\n",
       "    .dataframe thead th {\n",
       "        text-align: right;\n",
       "    }\n",
       "</style>\n",
       "<table border=\"1\" class=\"dataframe\">\n",
       "  <thead>\n",
       "    <tr style=\"text-align: right;\">\n",
       "      <th></th>\n",
       "      <th>rating_id</th>\n",
       "      <th>book_id</th>\n",
       "      <th>username</th>\n",
       "      <th>rating</th>\n",
       "    </tr>\n",
       "  </thead>\n",
       "  <tbody>\n",
       "    <tr>\n",
       "      <th>0</th>\n",
       "      <td>1</td>\n",
       "      <td>1</td>\n",
       "      <td>ryanfranco</td>\n",
       "      <td>4</td>\n",
       "    </tr>\n",
       "    <tr>\n",
       "      <th>1</th>\n",
       "      <td>2</td>\n",
       "      <td>1</td>\n",
       "      <td>grantpatricia</td>\n",
       "      <td>2</td>\n",
       "    </tr>\n",
       "    <tr>\n",
       "      <th>2</th>\n",
       "      <td>3</td>\n",
       "      <td>1</td>\n",
       "      <td>brandtandrea</td>\n",
       "      <td>5</td>\n",
       "    </tr>\n",
       "    <tr>\n",
       "      <th>3</th>\n",
       "      <td>4</td>\n",
       "      <td>2</td>\n",
       "      <td>lorichen</td>\n",
       "      <td>3</td>\n",
       "    </tr>\n",
       "    <tr>\n",
       "      <th>4</th>\n",
       "      <td>5</td>\n",
       "      <td>2</td>\n",
       "      <td>mariokeller</td>\n",
       "      <td>2</td>\n",
       "    </tr>\n",
       "  </tbody>\n",
       "</table>\n",
       "</div>"
      ],
      "text/plain": [
       "   rating_id  book_id       username  rating\n",
       "0          1        1     ryanfranco       4\n",
       "1          2        1  grantpatricia       2\n",
       "2          3        1   brandtandrea       5\n",
       "3          4        2       lorichen       3\n",
       "4          5        2    mariokeller       2"
      ]
     },
     "metadata": {},
     "output_type": "display_data"
    },
    {
     "name": "stdout",
     "output_type": "stream",
     "text": [
      "Tabla: reviews\n"
     ]
    },
    {
     "data": {
      "text/html": [
       "<div>\n",
       "<style scoped>\n",
       "    .dataframe tbody tr th:only-of-type {\n",
       "        vertical-align: middle;\n",
       "    }\n",
       "\n",
       "    .dataframe tbody tr th {\n",
       "        vertical-align: top;\n",
       "    }\n",
       "\n",
       "    .dataframe thead th {\n",
       "        text-align: right;\n",
       "    }\n",
       "</style>\n",
       "<table border=\"1\" class=\"dataframe\">\n",
       "  <thead>\n",
       "    <tr style=\"text-align: right;\">\n",
       "      <th></th>\n",
       "      <th>review_id</th>\n",
       "      <th>book_id</th>\n",
       "      <th>username</th>\n",
       "      <th>text</th>\n",
       "    </tr>\n",
       "  </thead>\n",
       "  <tbody>\n",
       "    <tr>\n",
       "      <th>0</th>\n",
       "      <td>1</td>\n",
       "      <td>1</td>\n",
       "      <td>brandtandrea</td>\n",
       "      <td>Mention society tell send professor analysis. ...</td>\n",
       "    </tr>\n",
       "    <tr>\n",
       "      <th>1</th>\n",
       "      <td>2</td>\n",
       "      <td>1</td>\n",
       "      <td>ryanfranco</td>\n",
       "      <td>Foot glass pretty audience hit themselves. Amo...</td>\n",
       "    </tr>\n",
       "    <tr>\n",
       "      <th>2</th>\n",
       "      <td>3</td>\n",
       "      <td>2</td>\n",
       "      <td>lorichen</td>\n",
       "      <td>Listen treat keep worry. Miss husband tax but ...</td>\n",
       "    </tr>\n",
       "    <tr>\n",
       "      <th>3</th>\n",
       "      <td>4</td>\n",
       "      <td>3</td>\n",
       "      <td>johnsonamanda</td>\n",
       "      <td>Finally month interesting blue could nature cu...</td>\n",
       "    </tr>\n",
       "    <tr>\n",
       "      <th>4</th>\n",
       "      <td>5</td>\n",
       "      <td>3</td>\n",
       "      <td>scotttamara</td>\n",
       "      <td>Nation purpose heavy give wait song will. List...</td>\n",
       "    </tr>\n",
       "  </tbody>\n",
       "</table>\n",
       "</div>"
      ],
      "text/plain": [
       "   review_id  book_id       username  \\\n",
       "0          1        1   brandtandrea   \n",
       "1          2        1     ryanfranco   \n",
       "2          3        2       lorichen   \n",
       "3          4        3  johnsonamanda   \n",
       "4          5        3    scotttamara   \n",
       "\n",
       "                                                text  \n",
       "0  Mention society tell send professor analysis. ...  \n",
       "1  Foot glass pretty audience hit themselves. Amo...  \n",
       "2  Listen treat keep worry. Miss husband tax but ...  \n",
       "3  Finally month interesting blue could nature cu...  \n",
       "4  Nation purpose heavy give wait song will. List...  "
      ]
     },
     "metadata": {},
     "output_type": "display_data"
    }
   ],
   "source": [
    "#Mostramos las primeras 5 filas de cada tabla\n",
    "#Creamos una lista con los nombres de las tablas que queremos consultar\n",
    "tables = ['books', 'authors', 'publishers', 'ratings', 'reviews']\n",
    "\n",
    "#Iteramos sobre la lista de tablas y mostramos las primeras 5 filas de cada una\n",
    "for table in tables:\n",
    "    print(f\"Tabla: {table}\")\n",
    "    df = pd.read_sql(f\"SELECT * FROM {table} LIMIT 5\", con=engine)\n",
    "    display(df)"
   ]
  },
  {
   "cell_type": "markdown",
   "id": "f9b1db39",
   "metadata": {},
   "source": [
    "    - Después de dar un vistazo a las primeras filas de los datos encontramos a la tabla books como la tabla central ya que contiene la mayor cantidad de llaves foraneas, mientras que el resto son mayormente de consulta.\n",
    "    - Me llama la atención particularmente que ratings y reviews no estén conectados por una llave foranea enfocada los usuarios que dejan una calificación y reseña, a la larga esto entorpecera futuras consultas relacionadas con los usuarios que participan activamente."
   ]
  },
  {
   "cell_type": "markdown",
   "id": "77079f31",
   "metadata": {},
   "source": [
    "# Consultas Específifcas"
   ]
  },
  {
   "cell_type": "markdown",
   "id": "8dc1d8b2",
   "metadata": {},
   "source": [
    "## Número de libros publicados después del 1 de enero de 2000"
   ]
  },
  {
   "cell_type": "code",
   "execution_count": 56,
   "id": "a9ed9b7d",
   "metadata": {},
   "outputs": [
    {
     "data": {
      "text/plain": [
       "'Numero de libros publiados después del 1 de enero de 2020:'"
      ]
     },
     "metadata": {},
     "output_type": "display_data"
    },
    {
     "data": {
      "text/html": [
       "<div>\n",
       "<style scoped>\n",
       "    .dataframe tbody tr th:only-of-type {\n",
       "        vertical-align: middle;\n",
       "    }\n",
       "\n",
       "    .dataframe tbody tr th {\n",
       "        vertical-align: top;\n",
       "    }\n",
       "\n",
       "    .dataframe thead th {\n",
       "        text-align: right;\n",
       "    }\n",
       "</style>\n",
       "<table border=\"1\" class=\"dataframe\">\n",
       "  <thead>\n",
       "    <tr style=\"text-align: right;\">\n",
       "      <th></th>\n",
       "      <th>publicados_desp_ene2000</th>\n",
       "    </tr>\n",
       "  </thead>\n",
       "  <tbody>\n",
       "    <tr>\n",
       "      <th>0</th>\n",
       "      <td>819</td>\n",
       "    </tr>\n",
       "  </tbody>\n",
       "</table>\n",
       "</div>"
      ],
      "text/plain": [
       "   publicados_desp_ene2000\n",
       "0                      819"
      ]
     },
     "metadata": {},
     "output_type": "display_data"
    }
   ],
   "source": [
    "#Generamos un string con la consulta SQL para contar los libros publicados después del 1 de enero de 2000 (year-month-day)\n",
    "query_1 = \"\"\"SELECT COUNT(*) AS publicados_desp_ene2000 FROM books WHERE publication_date > '2000-01-01';\"\"\"\n",
    "\n",
    "display(\"Numero de libros publiados después del 1 de enero de 2020:\", pd.read_sql(query_1, con=engine))"
   ]
  },
  {
   "cell_type": "markdown",
   "id": "f213c643",
   "metadata": {},
   "source": [
    "    - De los 1000 libros registrados en la BD encontramos que más del 80% fueron publicados después del 2000, por lo que confirmamos que en este estudio de mercado la preferencia recae en la literatura moderna."
   ]
  },
  {
   "cell_type": "markdown",
   "id": "1f7c122a",
   "metadata": {},
   "source": [
    "## Número de reseñas de usuarios y la calificación promedio para cada libro"
   ]
  },
  {
   "cell_type": "code",
   "execution_count": 55,
   "id": "e8775f88",
   "metadata": {},
   "outputs": [
    {
     "data": {
      "text/plain": [
       "'Tabla con ID, título, conteo de reseñas y calificación promedio:'"
      ]
     },
     "metadata": {},
     "output_type": "display_data"
    },
    {
     "data": {
      "text/html": [
       "<div>\n",
       "<style scoped>\n",
       "    .dataframe tbody tr th:only-of-type {\n",
       "        vertical-align: middle;\n",
       "    }\n",
       "\n",
       "    .dataframe tbody tr th {\n",
       "        vertical-align: top;\n",
       "    }\n",
       "\n",
       "    .dataframe thead th {\n",
       "        text-align: right;\n",
       "    }\n",
       "</style>\n",
       "<table border=\"1\" class=\"dataframe\">\n",
       "  <thead>\n",
       "    <tr style=\"text-align: right;\">\n",
       "      <th></th>\n",
       "      <th>book_id</th>\n",
       "      <th>title</th>\n",
       "      <th>contador_resenas</th>\n",
       "      <th>calificacion_promedio</th>\n",
       "    </tr>\n",
       "  </thead>\n",
       "  <tbody>\n",
       "    <tr>\n",
       "      <th>0</th>\n",
       "      <td>86</td>\n",
       "      <td>Arrows of the Queen (Heralds of Valdemar  #1)</td>\n",
       "      <td>2</td>\n",
       "      <td>5.00</td>\n",
       "    </tr>\n",
       "    <tr>\n",
       "      <th>1</th>\n",
       "      <td>901</td>\n",
       "      <td>The Walking Dead  Book One (The Walking Dead #...</td>\n",
       "      <td>2</td>\n",
       "      <td>5.00</td>\n",
       "    </tr>\n",
       "    <tr>\n",
       "      <th>2</th>\n",
       "      <td>390</td>\n",
       "      <td>Light in August</td>\n",
       "      <td>2</td>\n",
       "      <td>5.00</td>\n",
       "    </tr>\n",
       "    <tr>\n",
       "      <th>3</th>\n",
       "      <td>972</td>\n",
       "      <td>Wherever You Go  There You Are: Mindfulness Me...</td>\n",
       "      <td>2</td>\n",
       "      <td>5.00</td>\n",
       "    </tr>\n",
       "    <tr>\n",
       "      <th>4</th>\n",
       "      <td>136</td>\n",
       "      <td>Captivating: Unveiling the Mystery of a Woman'...</td>\n",
       "      <td>2</td>\n",
       "      <td>5.00</td>\n",
       "    </tr>\n",
       "    <tr>\n",
       "      <th>...</th>\n",
       "      <td>...</td>\n",
       "      <td>...</td>\n",
       "      <td>...</td>\n",
       "      <td>...</td>\n",
       "    </tr>\n",
       "    <tr>\n",
       "      <th>995</th>\n",
       "      <td>915</td>\n",
       "      <td>The World Is Flat: A Brief History of the Twen...</td>\n",
       "      <td>3</td>\n",
       "      <td>2.25</td>\n",
       "    </tr>\n",
       "    <tr>\n",
       "      <th>996</th>\n",
       "      <td>316</td>\n",
       "      <td>His Excellency: George Washington</td>\n",
       "      <td>2</td>\n",
       "      <td>2.00</td>\n",
       "    </tr>\n",
       "    <tr>\n",
       "      <th>997</th>\n",
       "      <td>202</td>\n",
       "      <td>Drowning Ruth</td>\n",
       "      <td>3</td>\n",
       "      <td>2.00</td>\n",
       "    </tr>\n",
       "    <tr>\n",
       "      <th>998</th>\n",
       "      <td>371</td>\n",
       "      <td>Junky</td>\n",
       "      <td>2</td>\n",
       "      <td>2.00</td>\n",
       "    </tr>\n",
       "    <tr>\n",
       "      <th>999</th>\n",
       "      <td>303</td>\n",
       "      <td>Harvesting the Heart</td>\n",
       "      <td>2</td>\n",
       "      <td>1.50</td>\n",
       "    </tr>\n",
       "  </tbody>\n",
       "</table>\n",
       "<p>1000 rows × 4 columns</p>\n",
       "</div>"
      ],
      "text/plain": [
       "     book_id                                              title  \\\n",
       "0         86      Arrows of the Queen (Heralds of Valdemar  #1)   \n",
       "1        901  The Walking Dead  Book One (The Walking Dead #...   \n",
       "2        390                                    Light in August   \n",
       "3        972  Wherever You Go  There You Are: Mindfulness Me...   \n",
       "4        136  Captivating: Unveiling the Mystery of a Woman'...   \n",
       "..       ...                                                ...   \n",
       "995      915  The World Is Flat: A Brief History of the Twen...   \n",
       "996      316                  His Excellency: George Washington   \n",
       "997      202                                      Drowning Ruth   \n",
       "998      371                                              Junky   \n",
       "999      303                               Harvesting the Heart   \n",
       "\n",
       "     contador_resenas  calificacion_promedio  \n",
       "0                   2                   5.00  \n",
       "1                   2                   5.00  \n",
       "2                   2                   5.00  \n",
       "3                   2                   5.00  \n",
       "4                   2                   5.00  \n",
       "..                ...                    ...  \n",
       "995                 3                   2.25  \n",
       "996                 2                   2.00  \n",
       "997                 3                   2.00  \n",
       "998                 2                   2.00  \n",
       "999                 2                   1.50  \n",
       "\n",
       "[1000 rows x 4 columns]"
      ]
     },
     "metadata": {},
     "output_type": "display_data"
    },
    {
     "data": {
      "text/plain": [
       "'Promedio de número de reseñas y calificación promedio de todos los libros:'"
      ]
     },
     "metadata": {},
     "output_type": "display_data"
    },
    {
     "data": {
      "text/html": [
       "<div>\n",
       "<style scoped>\n",
       "    .dataframe tbody tr th:only-of-type {\n",
       "        vertical-align: middle;\n",
       "    }\n",
       "\n",
       "    .dataframe tbody tr th {\n",
       "        vertical-align: top;\n",
       "    }\n",
       "\n",
       "    .dataframe thead th {\n",
       "        text-align: right;\n",
       "    }\n",
       "</style>\n",
       "<table border=\"1\" class=\"dataframe\">\n",
       "  <thead>\n",
       "    <tr style=\"text-align: right;\">\n",
       "      <th></th>\n",
       "      <th>total_contador_resenas</th>\n",
       "      <th>total_calificacion_promedio</th>\n",
       "    </tr>\n",
       "  </thead>\n",
       "  <tbody>\n",
       "    <tr>\n",
       "      <th>0</th>\n",
       "      <td>2.8</td>\n",
       "      <td>3.9</td>\n",
       "    </tr>\n",
       "  </tbody>\n",
       "</table>\n",
       "</div>"
      ],
      "text/plain": [
       "   total_contador_resenas  total_calificacion_promedio\n",
       "0                     2.8                          3.9"
      ]
     },
     "metadata": {},
     "output_type": "display_data"
    }
   ],
   "source": [
    "#Generamos un string con la consulta SQL para contar el número de reseñas de usuarios y la calificación promedio para cada libro\n",
    "#Usamos LEFT JOIN para asegurarnos de incluir libros sin reseñas o calificaciones\n",
    "#Agrupamos por book_id y title para obtener el conteo de reseñas y la calificación promedio\n",
    "#Ordenamos por calificación promedio de forma descendente para ver los libros mejor valorados\n",
    "query_2 = \"\"\"\n",
    "SELECT \n",
    "    b.book_id,\n",
    "    b.title,\n",
    "    COUNT(DISTINCT rv.review_id) AS contador_resenas,\n",
    "    ROUND(AVG(rt.rating), 2) AS calificacion_promedio\n",
    "FROM books b\n",
    "LEFT JOIN reviews rv ON b.book_id = rv.book_id\n",
    "LEFT JOIN ratings rt ON b.book_id = rt.book_id\n",
    "GROUP BY b.book_id, b.title\n",
    "ORDER BY calificacion_promedio DESC;\n",
    "\"\"\"\n",
    "\n",
    "#Creamos una nueva consulta para calcular el promedio de reseñas  y calificación para todos los libros\n",
    "query_2_2 = \"\"\"\n",
    "SELECT \n",
    "    ROUND(AVG(contador_resenas),1) AS total_contador_resenas,\n",
    "    ROUND(AVG(calificacion_promedio),1) AS total_calificacion_promedio\n",
    "FROM (\n",
    "    SELECT \n",
    "        b.book_id,\n",
    "        COUNT(DISTINCT rv.review_id) AS contador_resenas,\n",
    "        ROUND(AVG(rt.rating), 2) AS calificacion_promedio\n",
    "    FROM books b\n",
    "    LEFT JOIN reviews rv ON b.book_id = rv.book_id\n",
    "    LEFT JOIN ratings rt ON b.book_id = rt.book_id\n",
    "    GROUP BY b.book_id, b.title\n",
    ") AS subquery;\n",
    "\"\"\"\n",
    "\n",
    "display(\"Tabla con ID, título, conteo de reseñas y calificación promedio:\", pd.read_sql(query_2, con=engine))\n",
    "display(\"Promedio de número de reseñas y calificación promedio de todos los libros:\", pd.read_sql(query_2_2, con=engine))"
   ]
  },
  {
   "cell_type": "markdown",
   "id": "fc155bcb",
   "metadata": {},
   "source": [
    "    - Al generar la consulta encontramos que practicamente todos los libros con calificación promedio perfecta de 5 cuentan con solo 2 reseñas, esta tendencia indica que los resultados podrían ser poco confiables y sería necesario contar con mayor cantidad de usuarios dejando sus reseñas y calificaciones para confirmar si en serio existe un alto nivel de agrado entre los lectores.\n",
    "    - Como consulta adicional calculamos el promedio de reseñas y el promedio global de calificación de los libros; siendo que la cantidad de reseñas que los usuarios exponen por libro es de 2.8 se podría colocar un filtro de que la calificación de un libro sea valida a partír de recibir al menos 3 reseñas.\n",
    "    - De igual forma al no conocer la confiabilidad en las calificaciones no podemos confirmar si este promedio de 3.9 de todos los libros es certero."
   ]
  },
  {
   "cell_type": "markdown",
   "id": "c890892c",
   "metadata": {},
   "source": [
    "## Editorial con el mayor número de libros publicados (con más de 50 páginas)"
   ]
  },
  {
   "cell_type": "code",
   "execution_count": 52,
   "id": "348a4944",
   "metadata": {},
   "outputs": [
    {
     "data": {
      "text/plain": [
       "'Editorial con más publicaciones (+50 páginas):'"
      ]
     },
     "metadata": {},
     "output_type": "display_data"
    },
    {
     "data": {
      "text/html": [
       "<div>\n",
       "<style scoped>\n",
       "    .dataframe tbody tr th:only-of-type {\n",
       "        vertical-align: middle;\n",
       "    }\n",
       "\n",
       "    .dataframe tbody tr th {\n",
       "        vertical-align: top;\n",
       "    }\n",
       "\n",
       "    .dataframe thead th {\n",
       "        text-align: right;\n",
       "    }\n",
       "</style>\n",
       "<table border=\"1\" class=\"dataframe\">\n",
       "  <thead>\n",
       "    <tr style=\"text-align: right;\">\n",
       "      <th></th>\n",
       "      <th>publisher</th>\n",
       "      <th>contador_libros</th>\n",
       "    </tr>\n",
       "  </thead>\n",
       "  <tbody>\n",
       "    <tr>\n",
       "      <th>0</th>\n",
       "      <td>Penguin Books</td>\n",
       "      <td>42</td>\n",
       "    </tr>\n",
       "    <tr>\n",
       "      <th>1</th>\n",
       "      <td>Vintage</td>\n",
       "      <td>31</td>\n",
       "    </tr>\n",
       "    <tr>\n",
       "      <th>2</th>\n",
       "      <td>Grand Central Publishing</td>\n",
       "      <td>25</td>\n",
       "    </tr>\n",
       "    <tr>\n",
       "      <th>3</th>\n",
       "      <td>Penguin Classics</td>\n",
       "      <td>24</td>\n",
       "    </tr>\n",
       "    <tr>\n",
       "      <th>4</th>\n",
       "      <td>Bantam</td>\n",
       "      <td>19</td>\n",
       "    </tr>\n",
       "  </tbody>\n",
       "</table>\n",
       "</div>"
      ],
      "text/plain": [
       "                  publisher  contador_libros\n",
       "0             Penguin Books               42\n",
       "1                   Vintage               31\n",
       "2  Grand Central Publishing               25\n",
       "3          Penguin Classics               24\n",
       "4                    Bantam               19"
      ]
     },
     "metadata": {},
     "output_type": "display_data"
    }
   ],
   "source": [
    "#Generamos un string con la consulta SQL para encontrar la editorial con el mayor número de libros publicados (con más de 50 páginas)\n",
    "query_3 = \"\"\"\n",
    "SELECT \n",
    "    p.publisher,\n",
    "    COUNT(b.book_id) AS contador_libros\n",
    "FROM books b\n",
    "JOIN publishers p ON b.publisher_id = p.publisher_id\n",
    "WHERE b.num_pages > 50\n",
    "GROUP BY p.publisher\n",
    "ORDER BY contador_libros DESC\n",
    "LIMIT 5;\n",
    "\"\"\"\n",
    "\n",
    "display(\"Editorial con más publicaciones (+50 páginas):\", pd.read_sql(query_3, con=engine))"
   ]
  },
  {
   "cell_type": "markdown",
   "id": "7e2b4db6",
   "metadata": {},
   "source": [
    "    - Identificamos a la editorial PENGUIN BOOKS como la que ha publicado la mayor cantidad de libros con más de 50 páginas, estando muy por encima del segundo lugar VINTAGE que cuenta con solo 31 libros y del tercero GRAND CENTRAL PUBLISHING con solo 25.\n",
    "    - Es curioso que si revisamos el cuarto lugar sea PENGUIN CLASSICS que por el nombre suponemos que es una divisiń de PENGUIN BOOKS pero que se dedica a publicar literatura clásica."
   ]
  },
  {
   "cell_type": "markdown",
   "id": "5429a5ea",
   "metadata": {},
   "source": [
    "## Autor con la más alta calificación promedio del libro (al menos 50 calificaciones)"
   ]
  },
  {
   "cell_type": "code",
   "execution_count": 50,
   "id": "8b7a2c10",
   "metadata": {},
   "outputs": [
    {
     "data": {
      "text/plain": [
       "'Autor con la califcación promedio más alta (al menos 50 calificaciones recibidas):'"
      ]
     },
     "metadata": {},
     "output_type": "display_data"
    },
    {
     "data": {
      "text/html": [
       "<div>\n",
       "<style scoped>\n",
       "    .dataframe tbody tr th:only-of-type {\n",
       "        vertical-align: middle;\n",
       "    }\n",
       "\n",
       "    .dataframe tbody tr th {\n",
       "        vertical-align: top;\n",
       "    }\n",
       "\n",
       "    .dataframe thead th {\n",
       "        text-align: right;\n",
       "    }\n",
       "</style>\n",
       "<table border=\"1\" class=\"dataframe\">\n",
       "  <thead>\n",
       "    <tr style=\"text-align: right;\">\n",
       "      <th></th>\n",
       "      <th>author</th>\n",
       "      <th>promedio_autor_calificacion</th>\n",
       "      <th>contador_calificaciones</th>\n",
       "    </tr>\n",
       "  </thead>\n",
       "  <tbody>\n",
       "    <tr>\n",
       "      <th>0</th>\n",
       "      <td>Diana Gabaldon</td>\n",
       "      <td>4.30</td>\n",
       "      <td>50</td>\n",
       "    </tr>\n",
       "    <tr>\n",
       "      <th>1</th>\n",
       "      <td>J.K. Rowling/Mary GrandPré</td>\n",
       "      <td>4.29</td>\n",
       "      <td>312</td>\n",
       "    </tr>\n",
       "    <tr>\n",
       "      <th>2</th>\n",
       "      <td>Agatha Christie</td>\n",
       "      <td>4.28</td>\n",
       "      <td>53</td>\n",
       "    </tr>\n",
       "    <tr>\n",
       "      <th>3</th>\n",
       "      <td>Markus Zusak/Cao Xuân Việt Khương</td>\n",
       "      <td>4.26</td>\n",
       "      <td>53</td>\n",
       "    </tr>\n",
       "    <tr>\n",
       "      <th>4</th>\n",
       "      <td>J.R.R. Tolkien</td>\n",
       "      <td>4.24</td>\n",
       "      <td>166</td>\n",
       "    </tr>\n",
       "  </tbody>\n",
       "</table>\n",
       "</div>"
      ],
      "text/plain": [
       "                              author  promedio_autor_calificacion  \\\n",
       "0                     Diana Gabaldon                         4.30   \n",
       "1         J.K. Rowling/Mary GrandPré                         4.29   \n",
       "2                    Agatha Christie                         4.28   \n",
       "3  Markus Zusak/Cao Xuân Việt Khương                         4.26   \n",
       "4                     J.R.R. Tolkien                         4.24   \n",
       "\n",
       "   contador_calificaciones  \n",
       "0                       50  \n",
       "1                      312  \n",
       "2                       53  \n",
       "3                       53  \n",
       "4                      166  "
      ]
     },
     "metadata": {},
     "output_type": "display_data"
    }
   ],
   "source": [
    "#Generamos un string con la consulta SQL para encontrar el autor con la calificación promedio más alta, considerando solo autores con al menos 50 calificaciones\n",
    "#Usamos JOIN para combinar las tablas ratings, books y authors\n",
    "#Agrupamos por autor y calculamos el promedio de calificaciones y el conteo de calificaciones\n",
    "#Filtramos para incluir solo autores con al menos 50 calificaciones\n",
    "#Ordenamos por calificación promedio de forma descendente y limitamos a 1 para obtener el autor con la calificación más alta\n",
    "query_4 = \"\"\"\n",
    "SELECT \n",
    "    a.author,\n",
    "    ROUND(AVG(rt.rating), 2) AS promedio_autor_calificacion,\n",
    "    COUNT(rt.rating_id) AS contador_calificaciones\n",
    "FROM ratings rt\n",
    "JOIN books b ON rt.book_id = b.book_id\n",
    "JOIN authors a ON b.author_id = a.author_id\n",
    "GROUP BY a.author\n",
    "HAVING COUNT(rt.rating_id) >= 50\n",
    "ORDER BY promedio_autor_calificacion DESC\n",
    "LIMIT 5;\n",
    "\"\"\"\n",
    "\n",
    "display(\"Autor con la califcación promedio más alta (al menos 50 calificaciones recibidas):\", pd.read_sql(query_4, con=engine))"
   ]
  },
  {
   "cell_type": "markdown",
   "id": "d65f8d6e",
   "metadata": {},
   "source": [
    "    - Los primeros 3 lugares se encuentran separados en su calificación promedio por solo 0.1, siendo DIANA GABALDON la autorá con la mejor calificación, seguida de J.K. Rowling y en tercero Agatha Christie.\n",
    "    - Cabe mencionar que solo las primeras 2 autoras caen en la clasificación de literatura moderna, mientras que Agatha Cristie es literatura clásica.\n",
    "    - Dentro del top 5 de autores solo 2 cuentan con más de 100 calificaciones registradas por los usuarios, ambos grandes escritores del género de fantasía: J.K. Rowling y J.R.R. Tolkien. De ahí, para el promedio de calificaciones para el resto de autores ronda las 50."
   ]
  },
  {
   "cell_type": "markdown",
   "id": "1eb5c92c",
   "metadata": {},
   "source": [
    "## Promedio de reseñas de texto entre los usuarios que calificaron más de 50 libros"
   ]
  },
  {
   "cell_type": "code",
   "execution_count": 57,
   "id": "f234842d",
   "metadata": {},
   "outputs": [
    {
     "data": {
      "text/plain": [
       "'Promedio de reseñas de texto entre usuarios que calificaron más de 50 libros:'"
      ]
     },
     "metadata": {},
     "output_type": "display_data"
    },
    {
     "data": {
      "text/html": [
       "<div>\n",
       "<style scoped>\n",
       "    .dataframe tbody tr th:only-of-type {\n",
       "        vertical-align: middle;\n",
       "    }\n",
       "\n",
       "    .dataframe tbody tr th {\n",
       "        vertical-align: top;\n",
       "    }\n",
       "\n",
       "    .dataframe thead th {\n",
       "        text-align: right;\n",
       "    }\n",
       "</style>\n",
       "<table border=\"1\" class=\"dataframe\">\n",
       "  <thead>\n",
       "    <tr style=\"text-align: right;\">\n",
       "      <th></th>\n",
       "      <th>promedio_resenas</th>\n",
       "    </tr>\n",
       "  </thead>\n",
       "  <tbody>\n",
       "    <tr>\n",
       "      <th>0</th>\n",
       "      <td>24.33</td>\n",
       "    </tr>\n",
       "  </tbody>\n",
       "</table>\n",
       "</div>"
      ],
      "text/plain": [
       "   promedio_resenas\n",
       "0             24.33"
      ]
     },
     "metadata": {},
     "output_type": "display_data"
    }
   ],
   "source": [
    "#Generamos un string con la consulta SQL para encontrar la promedio de reseñas de texto entre los usuarios que han calificado más de 50 libros\n",
    "#Usamos una CTE (Common Table Expression) para identificar a los usuarios que han calificado más de 50 libros\n",
    "# Luego, unimos esta CTE con la tabla de reseñas para contar las reseñas de texto de esos usuarios\n",
    "#Finalmente, calculamos el promedio de reseñas de texto y redondeamos el resultado a dos decimales\n",
    "query_5 = \"\"\"\n",
    "WITH usuarios_calificadores AS (\n",
    "    SELECT username\n",
    "    FROM ratings\n",
    "    GROUP BY username\n",
    "    HAVING COUNT(DISTINCT book_id) > 50\n",
    ")\n",
    "SELECT \n",
    "    ROUND(AVG(contador_resenas), 2) AS promedio_resenas\n",
    "FROM  (\n",
    "    SELECT u.username, COUNT(r.review_id) AS contador_resenas\n",
    "    FROM usuarios_calificadores u\n",
    "    LEFT JOIN reviews r ON u.username = r.username\n",
    "    GROUP BY u.username) AS subquery;\n",
    "\"\"\"\n",
    "\n",
    "display(\"Promedio de reseñas de texto entre usuarios que calificaron más de 50 libros:\", pd.read_sql(query_5, con=engine))"
   ]
  },
  {
   "cell_type": "markdown",
   "id": "15e34d0d",
   "metadata": {},
   "source": [
    "    - Aqui encontramos que los usuarios con más de 50 libros calificados son sumamente participativos ya que es practicamente la mitad de las veces que plasman una calificación dejan una reseña.\n",
    "    - Este número está muy por encima del promedio de participación de reseñas del total de usuarios que si recordamos era del 2.8."
   ]
  },
  {
   "cell_type": "markdown",
   "id": "45eb3da9",
   "metadata": {},
   "source": [
    "# Conclusiones"
   ]
  },
  {
   "cell_type": "markdown",
   "id": "272b996d",
   "metadata": {},
   "source": [
    "El análisis de la base de datos permitió descubrir tendencias clave sobre cómo se publica, consume y valora el contenido en la plataforma. Una gran parte de las obras identificadas pertenece a las últimas dos décadas, lo que refleja un catálogo dinámico y alineado con los gustos contemporáneos. Además, algunos títulos lograron destacar no solo por su popularidad en interacciones, sino también por mantener calificaciones promedio altas, lo que los convierte en referencias naturales para la curaduría de futuras recomendaciones.\n",
    "\n",
    "En este panorama, emergen actores que concentran gran parte del peso cultural de la plataforma. Determinadas editoriales demuestran una capacidad notable para publicar obras de mayor extensión y contenido sustancial, mientras que ciertos autores mantienen de forma consistente una valoración sobresaliente respaldada por un volumen considerable de calificaciones. Del mismo modo, un grupo reducido de lectores destaca por su nivel de participación, contribuyendo de manera significativa tanto en cantidad como en calidad de reseñas.\n",
    "\n",
    "Estos hallazgos ofrecen una base sólida para diseñar propuestas que combinen contenido relevante, relaciones estratégicas con creadores y editoriales, y una comunidad activa que impulse la interacción. Apostar por obras y autores con alta recepción, reforzar la presencia de editoriales con catálogo robusto y reconocer el papel de los usuarios más comprometidos podría sentar las bases de una aplicación que no solo distribuya libros, sino que también fomente el descubrimiento y la conversación en torno a ellos."
   ]
  },
  {
   "cell_type": "markdown",
   "id": "729c8d2a",
   "metadata": {},
   "source": []
  }
 ],
 "metadata": {
  "kernelspec": {
   "display_name": ".venv",
   "language": "python",
   "name": "python3"
  },
  "language_info": {
   "codemirror_mode": {
    "name": "ipython",
    "version": 3
   },
   "file_extension": ".py",
   "mimetype": "text/x-python",
   "name": "python",
   "nbconvert_exporter": "python",
   "pygments_lexer": "ipython3",
   "version": "3.12.3"
  }
 },
 "nbformat": 4,
 "nbformat_minor": 5
}
