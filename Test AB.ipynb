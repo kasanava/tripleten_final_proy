{
 "cells": [
  {
   "cell_type": "markdown",
   "id": "a427e8e0",
   "metadata": {},
   "source": [
    "# Descripción del proyecto\n",
    "Has recibido una tarea analítica de una tienda en línea internacional. Tus predecesores no consiguieron completarla: lanzaron una prueba A/B y luego abandonaron (para iniciar una granja de sandías en Brasil). Solo dejaron las especificaciones técnicas y los resultados de las pruebas.\n",
    "\n",
    "## Descripción técnica\n",
    "- Nombre de la prueba: recommender_system_test\n",
    "- Grupos: А (control), B (nuevo embudo de pago)\n",
    "- Fecha de lanzamiento: 2020-12-07\n",
    "- Fecha en la que dejaron de aceptar nuevos usuarios: 2020-12-21\n",
    "- Fecha de finalización: 2021-01-01\n",
    "- Audiencia: 15% de los nuevos usuarios de la región de la UE\n",
    "- Propósito de la prueba: probar cambios relacionados con la introducción de un sistema de recomendaciones mejorado\n",
    "- Resultado esperado: dentro de los 14 días posteriores a la inscripción, los usuarios mostrarán una mejor conversión en vistas de la página del producto (el evento product_page), instancias de agregar artículos al carrito de compras (product_cart) y compras (purchase). - En cada etapa del embudo product_page → product_cart → purchase, habrá al menos un 10% de aumento.\n",
    "- Número previsto de participantes de la prueba: 6 000\n",
    "\n",
    "## Descripción de los datos\n",
    "Estructura de los CSV:\n",
    "- **ab_project_marketing_events_us.csv** — el calendario de eventos de marketing para 2020\n",
    "- **final_ab_new_users_upd_us.csv** — todos los usuarios que se registraron en la tienda en línea desde el 7 hasta el 21 de diciembre de 2020\n",
    "- **final_ab_events_upd_us.csv** — todos los eventos de los nuevos usuarios en el período comprendido entre el 7 de diciembre de 2020 y el 1 de enero de 2021\n",
    "- **final_ab_participants_upd_us.csv** — tabla con los datos de los participantes de la prueba\n",
    "\n",
    "Estructura **ab_project__marketing_events_us.csv:**\n",
    "- name — el nombre del evento de marketing\n",
    "- regions — regiones donde se llevará a cabo la campaña publicitaria\n",
    "- start_dt — fecha de inicio de la campaña\n",
    "- finish_dt — fecha de finalización de la campaña\n",
    "\n",
    "Estructura **final_ab_new_users_upd_us.csv:**\n",
    "- user_id\n",
    "- first_date — fecha de inscripción\n",
    "- region\n",
    "- device — dispositivo utilizado para la inscripción\n",
    "\n",
    "Estructura **final_ab_events_upd_us.csv:**\n",
    "- user_id\n",
    "- event_dt — fecha y hora del evento\n",
    "- event_name — nombre del tipo de evento\n",
    "- details — datos adicionales sobre el evento (por ejemplo, el pedido total en USD para los eventos purchase)\n",
    "\n",
    "Estructura **final_ab_participants_upd_us.csv:**\n",
    "- user_id\n",
    "- ab_test — nombre de la prueba\n",
    "- group — el grupo de prueba al que pertenecía el usuario\n"
   ]
  },
  {
   "cell_type": "markdown",
   "id": "574ee735",
   "metadata": {},
   "source": [
    "# Objetivo del estudio\n",
    "Analizar y compruebar si se ha realizado correctamente el estudio de **factibilidad de una granja de sandías en Brasil**; aplicar las pruebas necesarias y analizar los resultados.\n"
   ]
  },
  {
   "cell_type": "markdown",
   "id": "f88ff1f3",
   "metadata": {},
   "source": [
    "# Análisis Explatorio"
   ]
  },
  {
   "cell_type": "markdown",
   "id": "00692f13",
   "metadata": {},
   "source": [
    "## Análisis Inicial"
   ]
  },
  {
   "cell_type": "code",
   "execution_count": 2,
   "id": "e96aad2e",
   "metadata": {},
   "outputs": [],
   "source": [
    "#Importado de bibliotecas\n",
    "import pandas as pd\n",
    "import numpy as np\n",
    "import matplotlib.pyplot as plt\n",
    "import seaborn as sns"
   ]
  },
  {
   "cell_type": "code",
   "execution_count": 3,
   "id": "2a91ef74",
   "metadata": {},
   "outputs": [],
   "source": [
    "#Carga de los archivos CSV\n",
    "mkt_events = pd.read_csv('datasets/ab_project_marketing_events_us.csv')\n",
    "events = pd.read_csv('datasets/final_ab_events_upd_us.csv')\n",
    "new_users = pd.read_csv('datasets/final_ab_new_users_upd_us.csv')\n",
    "participants = pd.read_csv('datasets/final_ab_participants_upd_us.csv')"
   ]
  },
  {
   "cell_type": "code",
   "execution_count": null,
   "id": "01d69ca8",
   "metadata": {},
   "outputs": [
    {
     "name": "stdout",
     "output_type": "stream",
     "text": [
      "<class 'pandas.core.frame.DataFrame'>\n",
      "RangeIndex: 14 entries, 0 to 13\n",
      "Data columns (total 4 columns):\n",
      " #   Column     Non-Null Count  Dtype \n",
      "---  ------     --------------  ----- \n",
      " 0   name       14 non-null     object\n",
      " 1   regions    14 non-null     object\n",
      " 2   start_dt   14 non-null     object\n",
      " 3   finish_dt  14 non-null     object\n",
      "dtypes: object(4)\n",
      "memory usage: 580.0+ bytes\n"
     ]
    },
    {
     "data": {
      "text/html": [
       "<div>\n",
       "<style scoped>\n",
       "    .dataframe tbody tr th:only-of-type {\n",
       "        vertical-align: middle;\n",
       "    }\n",
       "\n",
       "    .dataframe tbody tr th {\n",
       "        vertical-align: top;\n",
       "    }\n",
       "\n",
       "    .dataframe thead th {\n",
       "        text-align: right;\n",
       "    }\n",
       "</style>\n",
       "<table border=\"1\" class=\"dataframe\">\n",
       "  <thead>\n",
       "    <tr style=\"text-align: right;\">\n",
       "      <th></th>\n",
       "      <th>name</th>\n",
       "      <th>regions</th>\n",
       "      <th>start_dt</th>\n",
       "      <th>finish_dt</th>\n",
       "    </tr>\n",
       "  </thead>\n",
       "  <tbody>\n",
       "    <tr>\n",
       "      <th>6</th>\n",
       "      <td>Chinese New Year Promo</td>\n",
       "      <td>APAC</td>\n",
       "      <td>2020-01-25</td>\n",
       "      <td>2020-02-07</td>\n",
       "    </tr>\n",
       "    <tr>\n",
       "      <th>8</th>\n",
       "      <td>International Women's Day Promo</td>\n",
       "      <td>EU, CIS, APAC</td>\n",
       "      <td>2020-03-08</td>\n",
       "      <td>2020-03-10</td>\n",
       "    </tr>\n",
       "    <tr>\n",
       "      <th>9</th>\n",
       "      <td>Victory Day CIS (May 9th) Event</td>\n",
       "      <td>CIS</td>\n",
       "      <td>2020-05-09</td>\n",
       "      <td>2020-05-11</td>\n",
       "    </tr>\n",
       "    <tr>\n",
       "      <th>1</th>\n",
       "      <td>St. Valentine's Day Giveaway</td>\n",
       "      <td>EU, CIS, APAC, N.America</td>\n",
       "      <td>2020-02-14</td>\n",
       "      <td>2020-02-16</td>\n",
       "    </tr>\n",
       "    <tr>\n",
       "      <th>7</th>\n",
       "      <td>Labor day (May 1st) Ads Campaign</td>\n",
       "      <td>EU, CIS, APAC</td>\n",
       "      <td>2020-05-01</td>\n",
       "      <td>2020-05-03</td>\n",
       "    </tr>\n",
       "  </tbody>\n",
       "</table>\n",
       "</div>"
      ],
      "text/plain": [
       "                               name                   regions    start_dt  \\\n",
       "6            Chinese New Year Promo                      APAC  2020-01-25   \n",
       "8   International Women's Day Promo             EU, CIS, APAC  2020-03-08   \n",
       "9   Victory Day CIS (May 9th) Event                       CIS  2020-05-09   \n",
       "1      St. Valentine's Day Giveaway  EU, CIS, APAC, N.America  2020-02-14   \n",
       "7  Labor day (May 1st) Ads Campaign             EU, CIS, APAC  2020-05-01   \n",
       "\n",
       "    finish_dt  \n",
       "6  2020-02-07  \n",
       "8  2020-03-10  \n",
       "9  2020-05-11  \n",
       "1  2020-02-16  \n",
       "7  2020-05-03  "
      ]
     },
     "execution_count": 4,
     "metadata": {},
     "output_type": "execute_result"
    }
   ],
   "source": [
    "#Exploración de los datos del DF mkt_events\n",
    "mkt_events.info()\n",
    "mkt_events.sample(5)"
   ]
  },
  {
   "cell_type": "code",
   "execution_count": 21,
   "id": "2c80ac30",
   "metadata": {},
   "outputs": [
    {
     "name": "stdout",
     "output_type": "stream",
     "text": [
      "<class 'pandas.core.frame.DataFrame'>\n",
      "RangeIndex: 423761 entries, 0 to 423760\n",
      "Data columns (total 4 columns):\n",
      " #   Column      Non-Null Count   Dtype  \n",
      "---  ------      --------------   -----  \n",
      " 0   user_id     423761 non-null  object \n",
      " 1   event_dt    423761 non-null  object \n",
      " 2   event_name  423761 non-null  object \n",
      " 3   details     60314 non-null   float64\n",
      "dtypes: float64(1), object(3)\n",
      "memory usage: 12.9+ MB\n"
     ]
    },
    {
     "data": {
      "text/html": [
       "<div>\n",
       "<style scoped>\n",
       "    .dataframe tbody tr th:only-of-type {\n",
       "        vertical-align: middle;\n",
       "    }\n",
       "\n",
       "    .dataframe tbody tr th {\n",
       "        vertical-align: top;\n",
       "    }\n",
       "\n",
       "    .dataframe thead th {\n",
       "        text-align: right;\n",
       "    }\n",
       "</style>\n",
       "<table border=\"1\" class=\"dataframe\">\n",
       "  <thead>\n",
       "    <tr style=\"text-align: right;\">\n",
       "      <th></th>\n",
       "      <th>user_id</th>\n",
       "      <th>event_dt</th>\n",
       "      <th>event_name</th>\n",
       "      <th>details</th>\n",
       "    </tr>\n",
       "  </thead>\n",
       "  <tbody>\n",
       "    <tr>\n",
       "      <th>173798</th>\n",
       "      <td>E85C0D938C14D781</td>\n",
       "      <td>2020-12-17 22:27:05</td>\n",
       "      <td>product_page</td>\n",
       "      <td>NaN</td>\n",
       "    </tr>\n",
       "    <tr>\n",
       "      <th>319258</th>\n",
       "      <td>28F350E59A67F7EB</td>\n",
       "      <td>2020-12-17 09:50:30</td>\n",
       "      <td>login</td>\n",
       "      <td>NaN</td>\n",
       "    </tr>\n",
       "    <tr>\n",
       "      <th>127235</th>\n",
       "      <td>A9734BA3067C98BB</td>\n",
       "      <td>2020-12-08 21:35:43</td>\n",
       "      <td>product_page</td>\n",
       "      <td>NaN</td>\n",
       "    </tr>\n",
       "    <tr>\n",
       "      <th>3402</th>\n",
       "      <td>DFA19F895A2AAB36</td>\n",
       "      <td>2020-12-09 22:00:14</td>\n",
       "      <td>purchase</td>\n",
       "      <td>4.99</td>\n",
       "    </tr>\n",
       "    <tr>\n",
       "      <th>11600</th>\n",
       "      <td>C6DD204948B0A16D</td>\n",
       "      <td>2020-12-13 00:43:57</td>\n",
       "      <td>purchase</td>\n",
       "      <td>4.99</td>\n",
       "    </tr>\n",
       "  </tbody>\n",
       "</table>\n",
       "</div>"
      ],
      "text/plain": [
       "                 user_id             event_dt    event_name  details\n",
       "173798  E85C0D938C14D781  2020-12-17 22:27:05  product_page      NaN\n",
       "319258  28F350E59A67F7EB  2020-12-17 09:50:30         login      NaN\n",
       "127235  A9734BA3067C98BB  2020-12-08 21:35:43  product_page      NaN\n",
       "3402    DFA19F895A2AAB36  2020-12-09 22:00:14      purchase     4.99\n",
       "11600   C6DD204948B0A16D  2020-12-13 00:43:57      purchase     4.99"
      ]
     },
     "execution_count": 21,
     "metadata": {},
     "output_type": "execute_result"
    }
   ],
   "source": [
    "#Exploración de los datos del df events\n",
    "events.info()\n",
    "events.sample(5)"
   ]
  },
  {
   "cell_type": "code",
   "execution_count": 9,
   "id": "c2db6aa8",
   "metadata": {},
   "outputs": [
    {
     "name": "stdout",
     "output_type": "stream",
     "text": [
      "<class 'pandas.core.frame.DataFrame'>\n",
      "RangeIndex: 58703 entries, 0 to 58702\n",
      "Data columns (total 4 columns):\n",
      " #   Column      Non-Null Count  Dtype \n",
      "---  ------      --------------  ----- \n",
      " 0   user_id     58703 non-null  object\n",
      " 1   first_date  58703 non-null  object\n",
      " 2   region      58703 non-null  object\n",
      " 3   device      58703 non-null  object\n",
      "dtypes: object(4)\n",
      "memory usage: 1.8+ MB\n"
     ]
    },
    {
     "data": {
      "text/html": [
       "<div>\n",
       "<style scoped>\n",
       "    .dataframe tbody tr th:only-of-type {\n",
       "        vertical-align: middle;\n",
       "    }\n",
       "\n",
       "    .dataframe tbody tr th {\n",
       "        vertical-align: top;\n",
       "    }\n",
       "\n",
       "    .dataframe thead th {\n",
       "        text-align: right;\n",
       "    }\n",
       "</style>\n",
       "<table border=\"1\" class=\"dataframe\">\n",
       "  <thead>\n",
       "    <tr style=\"text-align: right;\">\n",
       "      <th></th>\n",
       "      <th>user_id</th>\n",
       "      <th>first_date</th>\n",
       "      <th>region</th>\n",
       "      <th>device</th>\n",
       "    </tr>\n",
       "  </thead>\n",
       "  <tbody>\n",
       "    <tr>\n",
       "      <th>42985</th>\n",
       "      <td>7C22AFA05B08D9FA</td>\n",
       "      <td>2020-12-18</td>\n",
       "      <td>CIS</td>\n",
       "      <td>Android</td>\n",
       "    </tr>\n",
       "    <tr>\n",
       "      <th>44004</th>\n",
       "      <td>151FCFDFA64C6C94</td>\n",
       "      <td>2020-12-12</td>\n",
       "      <td>EU</td>\n",
       "      <td>iPhone</td>\n",
       "    </tr>\n",
       "    <tr>\n",
       "      <th>44825</th>\n",
       "      <td>FA6B5071FCE56FAC</td>\n",
       "      <td>2020-12-12</td>\n",
       "      <td>EU</td>\n",
       "      <td>PC</td>\n",
       "    </tr>\n",
       "    <tr>\n",
       "      <th>33967</th>\n",
       "      <td>E460AD40A8316D83</td>\n",
       "      <td>2020-12-10</td>\n",
       "      <td>EU</td>\n",
       "      <td>Android</td>\n",
       "    </tr>\n",
       "    <tr>\n",
       "      <th>30861</th>\n",
       "      <td>9B1EA1A205864EB2</td>\n",
       "      <td>2020-12-23</td>\n",
       "      <td>EU</td>\n",
       "      <td>Android</td>\n",
       "    </tr>\n",
       "  </tbody>\n",
       "</table>\n",
       "</div>"
      ],
      "text/plain": [
       "                user_id  first_date region   device\n",
       "42985  7C22AFA05B08D9FA  2020-12-18    CIS  Android\n",
       "44004  151FCFDFA64C6C94  2020-12-12     EU   iPhone\n",
       "44825  FA6B5071FCE56FAC  2020-12-12     EU       PC\n",
       "33967  E460AD40A8316D83  2020-12-10     EU  Android\n",
       "30861  9B1EA1A205864EB2  2020-12-23     EU  Android"
      ]
     },
     "execution_count": 9,
     "metadata": {},
     "output_type": "execute_result"
    }
   ],
   "source": [
    "#Exploración de los datos del DF new_users\n",
    "new_users.info()\n",
    "new_users.sample(5)"
   ]
  },
  {
   "cell_type": "code",
   "execution_count": 10,
   "id": "f1ce6a04",
   "metadata": {},
   "outputs": [
    {
     "name": "stdout",
     "output_type": "stream",
     "text": [
      "<class 'pandas.core.frame.DataFrame'>\n",
      "RangeIndex: 14525 entries, 0 to 14524\n",
      "Data columns (total 3 columns):\n",
      " #   Column   Non-Null Count  Dtype \n",
      "---  ------   --------------  ----- \n",
      " 0   user_id  14525 non-null  object\n",
      " 1   group    14525 non-null  object\n",
      " 2   ab_test  14525 non-null  object\n",
      "dtypes: object(3)\n",
      "memory usage: 340.6+ KB\n"
     ]
    },
    {
     "data": {
      "text/html": [
       "<div>\n",
       "<style scoped>\n",
       "    .dataframe tbody tr th:only-of-type {\n",
       "        vertical-align: middle;\n",
       "    }\n",
       "\n",
       "    .dataframe tbody tr th {\n",
       "        vertical-align: top;\n",
       "    }\n",
       "\n",
       "    .dataframe thead th {\n",
       "        text-align: right;\n",
       "    }\n",
       "</style>\n",
       "<table border=\"1\" class=\"dataframe\">\n",
       "  <thead>\n",
       "    <tr style=\"text-align: right;\">\n",
       "      <th></th>\n",
       "      <th>user_id</th>\n",
       "      <th>group</th>\n",
       "      <th>ab_test</th>\n",
       "    </tr>\n",
       "  </thead>\n",
       "  <tbody>\n",
       "    <tr>\n",
       "      <th>13518</th>\n",
       "      <td>EFB19607608B9096</td>\n",
       "      <td>A</td>\n",
       "      <td>interface_eu_test</td>\n",
       "    </tr>\n",
       "    <tr>\n",
       "      <th>9827</th>\n",
       "      <td>5BA76F8C4411E66C</td>\n",
       "      <td>B</td>\n",
       "      <td>interface_eu_test</td>\n",
       "    </tr>\n",
       "    <tr>\n",
       "      <th>9327</th>\n",
       "      <td>F5122CC5F4E13616</td>\n",
       "      <td>A</td>\n",
       "      <td>interface_eu_test</td>\n",
       "    </tr>\n",
       "    <tr>\n",
       "      <th>384</th>\n",
       "      <td>F03F667009F16326</td>\n",
       "      <td>A</td>\n",
       "      <td>recommender_system_test</td>\n",
       "    </tr>\n",
       "    <tr>\n",
       "      <th>11226</th>\n",
       "      <td>2A0199F020A0A4C5</td>\n",
       "      <td>A</td>\n",
       "      <td>interface_eu_test</td>\n",
       "    </tr>\n",
       "  </tbody>\n",
       "</table>\n",
       "</div>"
      ],
      "text/plain": [
       "                user_id group                  ab_test\n",
       "13518  EFB19607608B9096     A        interface_eu_test\n",
       "9827   5BA76F8C4411E66C     B        interface_eu_test\n",
       "9327   F5122CC5F4E13616     A        interface_eu_test\n",
       "384    F03F667009F16326     A  recommender_system_test\n",
       "11226  2A0199F020A0A4C5     A        interface_eu_test"
      ]
     },
     "execution_count": 10,
     "metadata": {},
     "output_type": "execute_result"
    }
   ],
   "source": [
    "#Exploración de los datos del DF participants\n",
    "participants.info()\n",
    "participants.sample(5)"
   ]
  },
  {
   "cell_type": "markdown",
   "id": "c5caa1b0",
   "metadata": {},
   "source": [
    "    - AA"
   ]
  },
  {
   "cell_type": "markdown",
   "id": "5a7083f6",
   "metadata": {},
   "source": [
    "## Identificación de datos nulos y repetidos"
   ]
  },
  {
   "cell_type": "code",
   "execution_count": 19,
   "id": "2d02351b",
   "metadata": {},
   "outputs": [
    {
     "name": "stdout",
     "output_type": "stream",
     "text": [
      "MKT Events\n",
      "Celdas repetidas:\n",
      " 0\n",
      "Celdas nulas:\n",
      " name         0\n",
      "regions      0\n",
      "start_dt     0\n",
      "finish_dt    0\n",
      "dtype: int64\n",
      "\n",
      "Events\n",
      "Celdas repetidas:\n",
      " 0\n",
      "Celdas nulas:\n",
      " user_id            0\n",
      "event_dt           0\n",
      "event_name         0\n",
      "details       363447\n",
      "dtype: int64\n",
      "\n",
      "New Users\n",
      "Celdas repetidas:\n",
      " 0\n",
      "Celdas nulas:\n",
      " user_id       0\n",
      "first_date    0\n",
      "region        0\n",
      "device        0\n",
      "dtype: int64\n",
      "\n",
      "Participants\n",
      "Celdas repetidas:\n",
      " 0\n",
      "Celdas nulas:\n",
      " user_id    0\n",
      "group      0\n",
      "ab_test    0\n",
      "dtype: int64\n"
     ]
    }
   ],
   "source": [
    "#Contamos los celdas repetidas y nulas en cada columna de mkt_events\n",
    "print('MKT Events')\n",
    "print('Celdas repetidas:\\n', mkt_events.duplicated().sum())\n",
    "print('Celdas nulas:\\n',mkt_events.isnull().sum())\n",
    "\n",
    "#Contamos los celdas repetidas y nulas en cada columna de events\n",
    "print('\\nEvents')\n",
    "print('Celdas repetidas:\\n', events.duplicated().sum())\n",
    "print('Celdas nulas:\\n',events.isnull().sum())\n",
    "\n",
    "#Contamos los celdas repetidas y nulas en cada columna de new_users\n",
    "print('\\nNew Users')\n",
    "print('Celdas repetidas:\\n', new_users.duplicated().sum())\n",
    "print('Celdas nulas:\\n',new_users.isnull().sum())\n",
    "\n",
    "#Contamos los celdas repetidas y nulas en cada columna de participants\n",
    "print('\\nParticipants')\n",
    "print('Celdas repetidas:\\n', participants.duplicated().sum())\n",
    "print('Celdas nulas:\\n',participants.isnull().sum())"
   ]
  },
  {
   "cell_type": "markdown",
   "id": "5fd18cdf",
   "metadata": {},
   "source": [
    "## Transformación de los datos"
   ]
  },
  {
   "cell_type": "code",
   "execution_count": 33,
   "id": "2f18fbdd",
   "metadata": {},
   "outputs": [
    {
     "name": "stdout",
     "output_type": "stream",
     "text": [
      "\n",
      "Comprobación de conversiones:\n",
      "Events - event_dt: datetime64[ns]\n",
      "MKT Events - start_dt: datetime64[ns]\n",
      "MKT Events - finish_dt: datetime64[ns]\n",
      "New Users - first_date: datetime64[ns]\n"
     ]
    }
   ],
   "source": [
    "#Convertimos a float la columnna 'details' del df events\n",
    "#Antes de la conversión, reemplazamos los valores NaN por 0\n",
    "events['details'] = events['details'].fillna(0)\n",
    "events['details'] = events['details'].astype(float)\n",
    "\n",
    "\n",
    "#Convertimos a datetime (año/mes/día) la columna 'first_date' del df new_users; 'start_dt' y 'finish_dt' del df mkt_events \n",
    "new_users['first_date'] = pd.to_datetime(new_users['first_date'], format='%Y-%m-%d')\n",
    "mkt_events['start_dt'] = pd.to_datetime(mkt_events['start_dt'], format='%Y-%m-%d')\n",
    "mkt_events['finish_dt'] = pd.to_datetime(mkt_events['finish_dt'], format='%Y-%m-%d')\n",
    "\n",
    "#Convertimos a datetime (año/mes/día h:m:s) la columna 'event_dt' del df events\n",
    "events['event_dt'] = pd.to_datetime(events['event_dt'], format='%Y-%m-%d %H:%M:%S')\n",
    "\n",
    "#Comprobamos que las conversiones se realizaron correctamente\n",
    "print('\\nComprobación de conversiones:')\n",
    "print('Events - event_dt:', events['event_dt'].dtype)\n",
    "print('MKT Events - start_dt:', mkt_events['start_dt'].dtype)\n",
    "print('MKT Events - finish_dt:', mkt_events['finish_dt'].dtype)\n",
    "print('New Users - first_date:', new_users['first_date'].dtype) "
   ]
  },
  {
   "cell_type": "markdown",
   "id": "7d8e212f",
   "metadata": {},
   "source": [
    "# Estudio del embudo"
   ]
  },
  {
   "cell_type": "code",
   "execution_count": null,
   "id": "6872a48b",
   "metadata": {},
   "outputs": [],
   "source": [
    "# a"
   ]
  },
  {
   "cell_type": "markdown",
   "id": "1de30047",
   "metadata": {},
   "source": []
  }
 ],
 "metadata": {
  "kernelspec": {
   "display_name": ".venv",
   "language": "python",
   "name": "python3"
  },
  "language_info": {
   "codemirror_mode": {
    "name": "ipython",
    "version": 3
   },
   "file_extension": ".py",
   "mimetype": "text/x-python",
   "name": "python",
   "nbconvert_exporter": "python",
   "pygments_lexer": "ipython3",
   "version": "3.12.3"
  }
 },
 "nbformat": 4,
 "nbformat_minor": 5
}
